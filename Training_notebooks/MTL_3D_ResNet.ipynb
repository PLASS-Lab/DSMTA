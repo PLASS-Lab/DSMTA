{
 "cells": [
  {
   "cell_type": "code",
   "execution_count": 1,
   "id": "8b3a21e8-c1fe-4c58-b64d-31c5d5ec1c21",
   "metadata": {
    "scrolled": true
   },
   "outputs": [
    {
     "name": "stdout",
     "output_type": "stream",
     "text": [
      "Model: \"model\"\n",
      "__________________________________________________________________________________________________\n",
      " Layer (type)                   Output Shape         Param #     Connected to                     \n",
      "==================================================================================================\n",
      " T1_Img (InputLayer)            [(None, 76, 94, 72,  0           []                               \n",
      "                                 1)]                                                              \n",
      "                                                                                                  \n",
      " conv3d (Conv3D)                (None, 76, 94, 72,   224         ['T1_Img[0][0]']                 \n",
      "                                8)                                                                \n",
      "                                                                                                  \n",
      " batch_normalization (BatchNorm  (None, 76, 94, 72,   32         ['conv3d[0][0]']                 \n",
      " alization)                     8)                                                                \n",
      "                                                                                                  \n",
      " elu (ELU)                      (None, 76, 94, 72,   0           ['batch_normalization[0][0]']    \n",
      "                                8)                                                                \n",
      "                                                                                                  \n",
      " conv3d_1 (Conv3D)              (None, 76, 94, 72,   1736        ['elu[0][0]']                    \n",
      "                                8)                                                                \n",
      "                                                                                                  \n",
      " conv3d_2 (Conv3D)              (None, 76, 94, 72,   16          ['T1_Img[0][0]']                 \n",
      "                                8)                                                                \n",
      "                                                                                                  \n",
      " batch_normalization_1 (BatchNo  (None, 76, 94, 72,   32         ['conv3d_1[0][0]']               \n",
      " rmalization)                   8)                                                                \n",
      "                                                                                                  \n",
      " add (Add)                      (None, 76, 94, 72,   0           ['conv3d_2[0][0]',               \n",
      "                                8)                                'batch_normalization_1[0][0]']  \n",
      "                                                                                                  \n",
      " elu_1 (ELU)                    (None, 76, 94, 72,   0           ['add[0][0]']                    \n",
      "                                8)                                                                \n",
      "                                                                                                  \n",
      " max_pooling3d (MaxPooling3D)   (None, 38, 47, 36,   0           ['elu_1[0][0]']                  \n",
      "                                8)                                                                \n",
      "                                                                                                  \n",
      " conv3d_3 (Conv3D)              (None, 38, 47, 36,   3472        ['max_pooling3d[0][0]']          \n",
      "                                16)                                                               \n",
      "                                                                                                  \n",
      " batch_normalization_2 (BatchNo  (None, 38, 47, 36,   64         ['conv3d_3[0][0]']               \n",
      " rmalization)                   16)                                                               \n",
      "                                                                                                  \n",
      " elu_2 (ELU)                    (None, 38, 47, 36,   0           ['batch_normalization_2[0][0]']  \n",
      "                                16)                                                               \n",
      "                                                                                                  \n",
      " conv3d_4 (Conv3D)              (None, 38, 47, 36,   6928        ['elu_2[0][0]']                  \n",
      "                                16)                                                               \n",
      "                                                                                                  \n",
      " conv3d_5 (Conv3D)              (None, 38, 47, 36,   144         ['max_pooling3d[0][0]']          \n",
      "                                16)                                                               \n",
      "                                                                                                  \n",
      " batch_normalization_3 (BatchNo  (None, 38, 47, 36,   64         ['conv3d_4[0][0]']               \n",
      " rmalization)                   16)                                                               \n",
      "                                                                                                  \n",
      " add_1 (Add)                    (None, 38, 47, 36,   0           ['conv3d_5[0][0]',               \n",
      "                                16)                               'batch_normalization_3[0][0]']  \n",
      "                                                                                                  \n",
      " elu_3 (ELU)                    (None, 38, 47, 36,   0           ['add_1[0][0]']                  \n",
      "                                16)                                                               \n",
      "                                                                                                  \n",
      " max_pooling3d_1 (MaxPooling3D)  (None, 19, 24, 18,   0          ['elu_3[0][0]']                  \n",
      "                                16)                                                               \n",
      "                                                                                                  \n",
      " conv3d_6 (Conv3D)              (None, 19, 24, 18,   13856       ['max_pooling3d_1[0][0]']        \n",
      "                                32)                                                               \n",
      "                                                                                                  \n",
      " batch_normalization_4 (BatchNo  (None, 19, 24, 18,   128        ['conv3d_6[0][0]']               \n",
      " rmalization)                   32)                                                               \n",
      "                                                                                                  \n",
      " elu_4 (ELU)                    (None, 19, 24, 18,   0           ['batch_normalization_4[0][0]']  \n",
      "                                32)                                                               \n",
      "                                                                                                  \n",
      " conv3d_7 (Conv3D)              (None, 19, 24, 18,   27680       ['elu_4[0][0]']                  \n",
      "                                32)                                                               \n",
      "                                                                                                  \n",
      " conv3d_8 (Conv3D)              (None, 19, 24, 18,   544         ['max_pooling3d_1[0][0]']        \n",
      "                                32)                                                               \n",
      "                                                                                                  \n",
      " batch_normalization_5 (BatchNo  (None, 19, 24, 18,   128        ['conv3d_7[0][0]']               \n",
      " rmalization)                   32)                                                               \n",
      "                                                                                                  \n",
      " add_2 (Add)                    (None, 19, 24, 18,   0           ['conv3d_8[0][0]',               \n",
      "                                32)                               'batch_normalization_5[0][0]']  \n",
      "                                                                                                  \n",
      " elu_5 (ELU)                    (None, 19, 24, 18,   0           ['add_2[0][0]']                  \n",
      "                                32)                                                               \n",
      "                                                                                                  \n",
      " max_pooling3d_2 (MaxPooling3D)  (None, 10, 12, 9, 3  0          ['elu_5[0][0]']                  \n",
      "                                2)                                                                \n",
      "                                                                                                  \n",
      " conv3d_9 (Conv3D)              (None, 10, 12, 9, 6  55360       ['max_pooling3d_2[0][0]']        \n",
      "                                4)                                                                \n",
      "                                                                                                  \n",
      " batch_normalization_6 (BatchNo  (None, 10, 12, 9, 6  256        ['conv3d_9[0][0]']               \n",
      " rmalization)                   4)                                                                \n",
      "                                                                                                  \n",
      " elu_6 (ELU)                    (None, 10, 12, 9, 6  0           ['batch_normalization_6[0][0]']  \n",
      "                                4)                                                                \n",
      "                                                                                                  \n",
      " conv3d_10 (Conv3D)             (None, 10, 12, 9, 6  110656      ['elu_6[0][0]']                  \n",
      "                                4)                                                                \n",
      "                                                                                                  \n",
      " conv3d_11 (Conv3D)             (None, 10, 12, 9, 6  2112        ['max_pooling3d_2[0][0]']        \n",
      "                                4)                                                                \n",
      "                                                                                                  \n",
      " batch_normalization_7 (BatchNo  (None, 10, 12, 9, 6  256        ['conv3d_10[0][0]']              \n",
      " rmalization)                   4)                                                                \n",
      "                                                                                                  \n",
      " add_3 (Add)                    (None, 10, 12, 9, 6  0           ['conv3d_11[0][0]',              \n",
      "                                4)                                'batch_normalization_7[0][0]']  \n",
      "                                                                                                  \n",
      " elu_7 (ELU)                    (None, 10, 12, 9, 6  0           ['add_3[0][0]']                  \n",
      "                                4)                                                                \n",
      "                                                                                                  \n",
      " max_pooling3d_3 (MaxPooling3D)  (None, 5, 6, 5, 64)  0          ['elu_7[0][0]']                  \n",
      "                                                                                                  \n",
      " conv3d_12 (Conv3D)             (None, 5, 6, 5, 128  221312      ['max_pooling3d_3[0][0]']        \n",
      "                                )                                                                 \n",
      "                                                                                                  \n",
      " conv3d_15 (Conv3D)             (None, 5, 6, 5, 128  221312      ['max_pooling3d_3[0][0]']        \n",
      "                                )                                                                 \n",
      "                                                                                                  \n",
      " batch_normalization_8 (BatchNo  (None, 5, 6, 5, 128  512        ['conv3d_12[0][0]']              \n",
      " rmalization)                   )                                                                 \n",
      "                                                                                                  \n",
      " batch_normalization_10 (BatchN  (None, 5, 6, 5, 128  512        ['conv3d_15[0][0]']              \n",
      " ormalization)                  )                                                                 \n",
      "                                                                                                  \n",
      " elu_8 (ELU)                    (None, 5, 6, 5, 128  0           ['batch_normalization_8[0][0]']  \n",
      "                                )                                                                 \n",
      "                                                                                                  \n",
      " elu_11 (ELU)                   (None, 5, 6, 5, 128  0           ['batch_normalization_10[0][0]'] \n",
      "                                )                                                                 \n",
      "                                                                                                  \n",
      " conv3d_13 (Conv3D)             (None, 5, 6, 5, 128  442496      ['elu_8[0][0]']                  \n",
      "                                )                                                                 \n",
      "                                                                                                  \n",
      " conv3d_16 (Conv3D)             (None, 5, 6, 5, 128  442496      ['elu_11[0][0]']                 \n",
      "                                )                                                                 \n",
      "                                                                                                  \n",
      " conv3d_14 (Conv3D)             (None, 5, 6, 5, 128  8320        ['max_pooling3d_3[0][0]']        \n",
      "                                )                                                                 \n",
      "                                                                                                  \n",
      " batch_normalization_9 (BatchNo  (None, 5, 6, 5, 128  512        ['conv3d_13[0][0]']              \n",
      " rmalization)                   )                                                                 \n",
      "                                                                                                  \n",
      " conv3d_17 (Conv3D)             (None, 5, 6, 5, 128  8320        ['max_pooling3d_3[0][0]']        \n",
      "                                )                                                                 \n",
      "                                                                                                  \n",
      " batch_normalization_11 (BatchN  (None, 5, 6, 5, 128  512        ['conv3d_16[0][0]']              \n",
      " ormalization)                  )                                                                 \n",
      "                                                                                                  \n",
      " add_4 (Add)                    (None, 5, 6, 5, 128  0           ['conv3d_14[0][0]',              \n",
      "                                )                                 'batch_normalization_9[0][0]']  \n",
      "                                                                                                  \n",
      " add_5 (Add)                    (None, 5, 6, 5, 128  0           ['conv3d_17[0][0]',              \n",
      "                                )                                 'batch_normalization_11[0][0]'] \n",
      "                                                                                                  \n",
      " elu_9 (ELU)                    (None, 5, 6, 5, 128  0           ['add_4[0][0]']                  \n",
      "                                )                                                                 \n",
      "                                                                                                  \n",
      " elu_12 (ELU)                   (None, 5, 6, 5, 128  0           ['add_5[0][0]']                  \n",
      "                                )                                                                 \n",
      "                                                                                                  \n",
      " max_pooling3d_4 (MaxPooling3D)  (None, 3, 3, 3, 128  0          ['elu_9[0][0]']                  \n",
      "                                )                                                                 \n",
      "                                                                                                  \n",
      " max_pooling3d_5 (MaxPooling3D)  (None, 3, 3, 3, 128  0          ['elu_12[0][0]']                 \n",
      "                                )                                                                 \n",
      "                                                                                                  \n",
      " flatten (Flatten)              (None, 3456)         0           ['max_pooling3d_4[0][0]']        \n",
      "                                                                                                  \n",
      " flatten_1 (Flatten)            (None, 3456)         0           ['max_pooling3d_5[0][0]']        \n",
      "                                                                                                  \n",
      " FullyConnectedLayer_Age (Dense  (None, 128)         442496      ['flatten[0][0]']                \n",
      " )                                                                                                \n",
      "                                                                                                  \n",
      " FullyConnectedLayer_Gender (De  (None, 128)         442496      ['flatten_1[0][0]']              \n",
      " nse)                                                                                             \n",
      "                                                                                                  \n",
      " elu_10 (ELU)                   (None, 128)          0           ['FullyConnectedLayer_Age[0][0]']\n",
      "                                                                                                  \n",
      " elu_13 (ELU)                   (None, 128)          0           ['FullyConnectedLayer_Gender[0][0\n",
      "                                                                 ]']                              \n",
      "                                                                                                  \n",
      " dropout (Dropout)              (None, 128)          0           ['elu_10[0][0]']                 \n",
      "                                                                                                  \n",
      " dropout_1 (Dropout)            (None, 128)          0           ['elu_13[0][0]']                 \n",
      "                                                                                                  \n",
      " AgePrediction (Dense)          (None, 1)            129         ['dropout[0][0]']                \n",
      "                                                                                                  \n",
      " GenderPrediction (Dense)       (None, 1)            129         ['dropout_1[0][0]']              \n",
      "                                                                                                  \n",
      "==================================================================================================\n",
      "Total params: 2,455,242\n",
      "Trainable params: 2,453,738\n",
      "Non-trainable params: 1,504\n",
      "__________________________________________________________________________________________________\n"
     ]
    }
   ],
   "source": [
    "from MultiTaskResNet import generateAgeGenderPredictionResNet\n",
    "\n",
    "input_shape = (76, 94, 72)\n",
    "model = generateAgeGenderPredictionResNet(input_shape, paddingType='same', initType='he_uniform', regAmount=0.00005, dropRate=0.2)\n",
    "# Compile the model\n",
    "model.compile(optimizer='adam', loss='mean_squared_error', metrics=['mae'])\n",
    "# Model summary\n",
    "model.summary()"
   ]
  },
  {
   "cell_type": "markdown",
   "id": "b3654a3e-fc1a-4858-b528-f48e2824b39c",
   "metadata": {},
   "source": [
    "## Data input pipeline"
   ]
  },
  {
   "cell_type": "code",
   "execution_count": 2,
   "id": "a2413baf-b6ba-4df8-9b99-17d1ab66e7dc",
   "metadata": {},
   "outputs": [
    {
     "name": "stdout",
     "output_type": "stream",
     "text": [
      "Batch X shape: (8, 76, 94, 72, 1)\n",
      "Batch y (age) shape: (8,)\n",
      "Batch y (gender) shape: (8,)\n",
      "Batch y (age) sample: 9.0\n",
      "Batch y (gender) sample: 0.0\n"
     ]
    }
   ],
   "source": [
    "import numpy as np\n",
    "from scipy.ndimage import zoom\n",
    "from tensorflow.keras.utils import Sequence\n",
    "import pandas as pd\n",
    "from sklearn.model_selection import train_test_split\n",
    "from tensorflow.keras.models import load_model\n",
    "import os\n",
    "from tensorflow.keras.callbacks import EarlyStopping, TensorBoard, ModelCheckpoint\n",
    "\n",
    "\n",
    "def get_normalized(vol):\n",
    "    norm_volume = (vol-vol.min())/(vol.max()-vol.min())\n",
    "    return norm_volume\n",
    "\n",
    "\n",
    "def downsample_volume(volume, target_shape=(70, 90, 70)):\n",
    "    # Calculate the zoom factors for each dimension\n",
    "    zoom_factors = np.array(target_shape) / np.array(volume.shape)\n",
    "    \n",
    "    # Perform the downsampling\n",
    "    downsampled_volume = zoom(volume, zoom_factors, order=1)  # order=1 for linear interpolation\n",
    "    \n",
    "    return downsampled_volume\n",
    "\n",
    "\n",
    "def get_cropped_volume(val_sample):\n",
    "    axial_sum = np.max(val_sample, axis=2)\n",
    "    axial_msk = axial_sum > axial_sum.mean()\n",
    "    coronal_sum = np.max(val_sample, axis=1)\n",
    "    coronal_msk = coronal_sum > coronal_sum.mean()\n",
    "    \n",
    "    object_indices = np.argwhere(axial_msk)\n",
    "    min_bounds = object_indices.min(axis=0)\n",
    "    max_bounds = object_indices.max(axis=0) + 1  # +1 to include the max index\n",
    "    x_min, x_max, y_min, y_max = min_bounds[0], max_bounds[0], min_bounds[1], max_bounds[1]\n",
    "\n",
    "    object_indices = np.argwhere(coronal_msk)\n",
    "    min_bounds = object_indices.min(axis=0)\n",
    "    max_bounds = object_indices.max(axis=0) + 1  # +1 to include the max index\n",
    "    _, _, z_min, z_max = min_bounds[0], max_bounds[0], min_bounds[1], max_bounds[1]\n",
    "    \n",
    "    x_min, x_max = get_fix_cords(x_min, x_max, 152)\n",
    "    y_min, y_max = get_fix_cords(y_min, y_max, 188)\n",
    "    z_min, z_max = get_fix_cords(z_min, z_max, 144)\n",
    "    cropped_volume = val_sample[x_min:x_max, y_min:y_max, z_min:z_max]\n",
    "    cropped_volume = downsample_volume(cropped_volume, target_shape=(76, 94, 72))\n",
    "    normalized_volume = get_normalized(cropped_volume)\n",
    "    \n",
    "    return normalized_volume\n",
    "\t\n",
    "def get_fix_cords(xmn, xmx, fvalue):\n",
    "    c_point = xmn + (xmx - xmn)/2\n",
    "    nx_min = int(c_point-fvalue/2)\n",
    "    nx_max = int(c_point+fvalue/2)\n",
    "    return nx_min, nx_max\n",
    "\n",
    "class DataGenerator(Sequence):\n",
    "    def __init__(self, data_dir, participants, batch_size=8, dim=(76, 94, 72), shuffle=True):\n",
    "        self.data_dir = data_dir\n",
    "        self.participants = participants\n",
    "        self.batch_size = batch_size\n",
    "        self.dim = dim\n",
    "        self.shuffle = shuffle\n",
    "        self.indexes = np.arange(len(self.participants))\n",
    "        self.on_epoch_end()\n",
    "        \n",
    "    def __len__(self):\n",
    "        # Denotes the number of batches per epoch\n",
    "        return int(np.floor(len(self.participants) / self.batch_size))\n",
    "    \n",
    "    def __getitem__(self, index):\n",
    "        # Generate one batch of data\n",
    "        indexes = self.indexes[index*self.batch_size:(index+1)*self.batch_size]\n",
    "        participants_temp = [self.participants.iloc[k] for k in indexes]\n",
    "        X, y_age, y_gender = self.__data_generation(participants_temp)\n",
    "        return X, {'AgePrediction': y_age, 'GenderPrediction': y_gender}\n",
    "    \n",
    "    def on_epoch_end(self):\n",
    "        # Updates indexes after each epoch\n",
    "        if self.shuffle:\n",
    "            np.random.shuffle(self.indexes)\n",
    "    \n",
    "    def __data_generation(self, participants_temp):\n",
    "        # Generates data containing batch_size samples\n",
    "        X = np.empty((self.batch_size, *self.dim, 1))\n",
    "        y_age = np.empty((self.batch_size), dtype=float)\n",
    "        y_gender = np.empty((self.batch_size), dtype=float)\n",
    "        \n",
    "        for i, participant in enumerate(participants_temp):\n",
    "            file_path = os.path.join(self.data_dir, f'sub-{participant[\"participant_id\"]}_preproc-quasiraw_T1w.npy')\n",
    "            volume = np.squeeze(np.load(file_path))\n",
    "            x = get_cropped_volume(volume)\n",
    "            X[i,] = x[..., np.newaxis]\n",
    "            y_age[i] = participant[\"age\"]\n",
    "            y_gender[i] = 1 if participant[\"sex\"] == 'male' else 0\n",
    "        \n",
    "        return X, y_age, y_gender\n",
    "\n",
    "# Example usage\n",
    "tsv_path = r'C:\\Users\\User\\Documents\\Dataset\\Brain Age\\train\\train_labels\\participants.tsv'\n",
    "data_dir = r'C:\\Users\\User\\Documents\\Dataset\\Brain Age\\train\\train_quasiraw'\n",
    "\n",
    "# Load participants information\n",
    "participants = pd.read_csv(tsv_path, sep='\\t')\n",
    "\n",
    "# Split the participants into training and validation sets\n",
    "train_participants, val_participants = train_test_split(participants, test_size=0.2, random_state=42)\n",
    "\n",
    "# Create data generators for multitask learning\n",
    "train_generator = DataGenerator(data_dir, train_participants, batch_size=8, dim=(76, 94, 72), shuffle=True)\n",
    "val_generator = DataGenerator(data_dir, val_participants, batch_size=8, dim=(76, 94, 72), shuffle=False)\n",
    "\n",
    "# Check the first batch to ensure the generator works correctly\n",
    "X_batch, y_batch = train_generator.__getitem__(0)\n",
    "print(\"Batch X shape:\", X_batch.shape)\n",
    "print(\"Batch y (age) shape:\", y_batch['AgePrediction'].shape)\n",
    "print(\"Batch y (gender) shape:\", y_batch['GenderPrediction'].shape)\n",
    "# print(\"Batch X sample:\", X_batch[0])\n",
    "print(\"Batch y (age) sample:\", y_batch['AgePrediction'][0])\n",
    "print(\"Batch y (gender) sample:\", y_batch['GenderPrediction'][0])\n"
   ]
  },
  {
   "cell_type": "code",
   "execution_count": 3,
   "id": "ac2b6ede-d06a-4425-bdb5-6394998f0a94",
   "metadata": {
    "scrolled": true
   },
   "outputs": [
    {
     "name": "stdout",
     "output_type": "stream",
     "text": [
      "Epoch 1/100\n",
      "  6/161 [>.............................] - ETA: 3:05 - loss: 1448.3722 - AgePrediction_loss: 1434.4977 - GenderPrediction_loss: 13.7733 - AgePrediction_mae: 28.6509 - GenderPrediction_accuracy: 0.5729"
     ]
    },
    {
     "ename": "KeyboardInterrupt",
     "evalue": "",
     "output_type": "error",
     "traceback": [
      "\u001b[1;31m---------------------------------------------------------------------------\u001b[0m",
      "\u001b[1;31mKeyboardInterrupt\u001b[0m                         Traceback (most recent call last)",
      "Cell \u001b[1;32mIn[3], line 40\u001b[0m\n\u001b[0;32m     37\u001b[0m tensorboard \u001b[38;5;241m=\u001b[39m TensorBoard(log_dir\u001b[38;5;241m=\u001b[39m\u001b[38;5;124m'\u001b[39m\u001b[38;5;124m./test_weights/logs_test\u001b[39m\u001b[38;5;124m'\u001b[39m)\n\u001b[0;32m     39\u001b[0m \u001b[38;5;66;03m# Train the model\u001b[39;00m\n\u001b[1;32m---> 40\u001b[0m history \u001b[38;5;241m=\u001b[39m \u001b[43mmodel\u001b[49m\u001b[38;5;241;43m.\u001b[39;49m\u001b[43mfit\u001b[49m\u001b[43m(\u001b[49m\n\u001b[0;32m     41\u001b[0m \u001b[43m    \u001b[49m\u001b[43mtrain_generator\u001b[49m\u001b[43m,\u001b[49m\n\u001b[0;32m     42\u001b[0m \u001b[43m    \u001b[49m\u001b[43mvalidation_data\u001b[49m\u001b[38;5;241;43m=\u001b[39;49m\u001b[43mval_generator\u001b[49m\u001b[43m,\u001b[49m\n\u001b[0;32m     43\u001b[0m \u001b[43m    \u001b[49m\u001b[43mepochs\u001b[49m\u001b[38;5;241;43m=\u001b[39;49m\u001b[38;5;241;43m100\u001b[39;49m\u001b[43m,\u001b[49m\n\u001b[0;32m     44\u001b[0m \u001b[43m    \u001b[49m\u001b[43mcallbacks\u001b[49m\u001b[38;5;241;43m=\u001b[39;49m\u001b[43m[\u001b[49m\u001b[43mearly_stopping\u001b[49m\u001b[43m,\u001b[49m\u001b[43m \u001b[49m\u001b[43mcheckpoint\u001b[49m\u001b[43m,\u001b[49m\u001b[43m \u001b[49m\u001b[43mtensorboard\u001b[49m\u001b[43m]\u001b[49m\n\u001b[0;32m     45\u001b[0m \u001b[43m)\u001b[49m\n\u001b[0;32m     47\u001b[0m \u001b[38;5;66;03m# Save the trained model\u001b[39;00m\n\u001b[0;32m     48\u001b[0m model\u001b[38;5;241m.\u001b[39msave(\u001b[38;5;124m'\u001b[39m\u001b[38;5;124m./test_weights/MTL_3D_ResNet_weights.h5\u001b[39m\u001b[38;5;124m'\u001b[39m)\n",
      "File \u001b[1;32m~\\.conda\\envs\\py39\\lib\\site-packages\\keras\\utils\\traceback_utils.py:65\u001b[0m, in \u001b[0;36mfilter_traceback.<locals>.error_handler\u001b[1;34m(*args, **kwargs)\u001b[0m\n\u001b[0;32m     63\u001b[0m filtered_tb \u001b[38;5;241m=\u001b[39m \u001b[38;5;28;01mNone\u001b[39;00m\n\u001b[0;32m     64\u001b[0m \u001b[38;5;28;01mtry\u001b[39;00m:\n\u001b[1;32m---> 65\u001b[0m     \u001b[38;5;28;01mreturn\u001b[39;00m fn(\u001b[38;5;241m*\u001b[39margs, \u001b[38;5;241m*\u001b[39m\u001b[38;5;241m*\u001b[39mkwargs)\n\u001b[0;32m     66\u001b[0m \u001b[38;5;28;01mexcept\u001b[39;00m \u001b[38;5;167;01mException\u001b[39;00m \u001b[38;5;28;01mas\u001b[39;00m e:\n\u001b[0;32m     67\u001b[0m     filtered_tb \u001b[38;5;241m=\u001b[39m _process_traceback_frames(e\u001b[38;5;241m.\u001b[39m__traceback__)\n",
      "File \u001b[1;32m~\\.conda\\envs\\py39\\lib\\site-packages\\keras\\engine\\training.py:1570\u001b[0m, in \u001b[0;36mModel.fit\u001b[1;34m(self, x, y, batch_size, epochs, verbose, callbacks, validation_split, validation_data, shuffle, class_weight, sample_weight, initial_epoch, steps_per_epoch, validation_steps, validation_batch_size, validation_freq, max_queue_size, workers, use_multiprocessing)\u001b[0m\n\u001b[0;32m   1568\u001b[0m logs \u001b[38;5;241m=\u001b[39m tmp_logs\n\u001b[0;32m   1569\u001b[0m end_step \u001b[38;5;241m=\u001b[39m step \u001b[38;5;241m+\u001b[39m data_handler\u001b[38;5;241m.\u001b[39mstep_increment\n\u001b[1;32m-> 1570\u001b[0m \u001b[43mcallbacks\u001b[49m\u001b[38;5;241;43m.\u001b[39;49m\u001b[43mon_train_batch_end\u001b[49m\u001b[43m(\u001b[49m\u001b[43mend_step\u001b[49m\u001b[43m,\u001b[49m\u001b[43m \u001b[49m\u001b[43mlogs\u001b[49m\u001b[43m)\u001b[49m\n\u001b[0;32m   1571\u001b[0m \u001b[38;5;28;01mif\u001b[39;00m \u001b[38;5;28mself\u001b[39m\u001b[38;5;241m.\u001b[39mstop_training:\n\u001b[0;32m   1572\u001b[0m     \u001b[38;5;28;01mbreak\u001b[39;00m\n",
      "File \u001b[1;32m~\\.conda\\envs\\py39\\lib\\site-packages\\keras\\callbacks.py:470\u001b[0m, in \u001b[0;36mCallbackList.on_train_batch_end\u001b[1;34m(self, batch, logs)\u001b[0m\n\u001b[0;32m    463\u001b[0m \u001b[38;5;250m\u001b[39m\u001b[38;5;124;03m\"\"\"Calls the `on_train_batch_end` methods of its callbacks.\u001b[39;00m\n\u001b[0;32m    464\u001b[0m \n\u001b[0;32m    465\u001b[0m \u001b[38;5;124;03mArgs:\u001b[39;00m\n\u001b[0;32m    466\u001b[0m \u001b[38;5;124;03m    batch: Integer, index of batch within the current epoch.\u001b[39;00m\n\u001b[0;32m    467\u001b[0m \u001b[38;5;124;03m    logs: Dict. Aggregated metric results up until this batch.\u001b[39;00m\n\u001b[0;32m    468\u001b[0m \u001b[38;5;124;03m\"\"\"\u001b[39;00m\n\u001b[0;32m    469\u001b[0m \u001b[38;5;28;01mif\u001b[39;00m \u001b[38;5;28mself\u001b[39m\u001b[38;5;241m.\u001b[39m_should_call_train_batch_hooks:\n\u001b[1;32m--> 470\u001b[0m     \u001b[38;5;28;43mself\u001b[39;49m\u001b[38;5;241;43m.\u001b[39;49m\u001b[43m_call_batch_hook\u001b[49m\u001b[43m(\u001b[49m\u001b[43mModeKeys\u001b[49m\u001b[38;5;241;43m.\u001b[39;49m\u001b[43mTRAIN\u001b[49m\u001b[43m,\u001b[49m\u001b[43m \u001b[49m\u001b[38;5;124;43m\"\u001b[39;49m\u001b[38;5;124;43mend\u001b[39;49m\u001b[38;5;124;43m\"\u001b[39;49m\u001b[43m,\u001b[49m\u001b[43m \u001b[49m\u001b[43mbatch\u001b[49m\u001b[43m,\u001b[49m\u001b[43m \u001b[49m\u001b[43mlogs\u001b[49m\u001b[38;5;241;43m=\u001b[39;49m\u001b[43mlogs\u001b[49m\u001b[43m)\u001b[49m\n",
      "File \u001b[1;32m~\\.conda\\envs\\py39\\lib\\site-packages\\keras\\callbacks.py:317\u001b[0m, in \u001b[0;36mCallbackList._call_batch_hook\u001b[1;34m(self, mode, hook, batch, logs)\u001b[0m\n\u001b[0;32m    315\u001b[0m     \u001b[38;5;28mself\u001b[39m\u001b[38;5;241m.\u001b[39m_call_batch_begin_hook(mode, batch, logs)\n\u001b[0;32m    316\u001b[0m \u001b[38;5;28;01melif\u001b[39;00m hook \u001b[38;5;241m==\u001b[39m \u001b[38;5;124m\"\u001b[39m\u001b[38;5;124mend\u001b[39m\u001b[38;5;124m\"\u001b[39m:\n\u001b[1;32m--> 317\u001b[0m     \u001b[38;5;28;43mself\u001b[39;49m\u001b[38;5;241;43m.\u001b[39;49m\u001b[43m_call_batch_end_hook\u001b[49m\u001b[43m(\u001b[49m\u001b[43mmode\u001b[49m\u001b[43m,\u001b[49m\u001b[43m \u001b[49m\u001b[43mbatch\u001b[49m\u001b[43m,\u001b[49m\u001b[43m \u001b[49m\u001b[43mlogs\u001b[49m\u001b[43m)\u001b[49m\n\u001b[0;32m    318\u001b[0m \u001b[38;5;28;01melse\u001b[39;00m:\n\u001b[0;32m    319\u001b[0m     \u001b[38;5;28;01mraise\u001b[39;00m \u001b[38;5;167;01mValueError\u001b[39;00m(\n\u001b[0;32m    320\u001b[0m         \u001b[38;5;124mf\u001b[39m\u001b[38;5;124m\"\u001b[39m\u001b[38;5;124mUnrecognized hook: \u001b[39m\u001b[38;5;132;01m{\u001b[39;00mhook\u001b[38;5;132;01m}\u001b[39;00m\u001b[38;5;124m. \u001b[39m\u001b[38;5;124m\"\u001b[39m\n\u001b[0;32m    321\u001b[0m         \u001b[38;5;124m'\u001b[39m\u001b[38;5;124mExpected values are [\u001b[39m\u001b[38;5;124m\"\u001b[39m\u001b[38;5;124mbegin\u001b[39m\u001b[38;5;124m\"\u001b[39m\u001b[38;5;124m, \u001b[39m\u001b[38;5;124m\"\u001b[39m\u001b[38;5;124mend\u001b[39m\u001b[38;5;124m\"\u001b[39m\u001b[38;5;124m]\u001b[39m\u001b[38;5;124m'\u001b[39m\n\u001b[0;32m    322\u001b[0m     )\n",
      "File \u001b[1;32m~\\.conda\\envs\\py39\\lib\\site-packages\\keras\\callbacks.py:340\u001b[0m, in \u001b[0;36mCallbackList._call_batch_end_hook\u001b[1;34m(self, mode, batch, logs)\u001b[0m\n\u001b[0;32m    337\u001b[0m     batch_time \u001b[38;5;241m=\u001b[39m time\u001b[38;5;241m.\u001b[39mtime() \u001b[38;5;241m-\u001b[39m \u001b[38;5;28mself\u001b[39m\u001b[38;5;241m.\u001b[39m_batch_start_time\n\u001b[0;32m    338\u001b[0m     \u001b[38;5;28mself\u001b[39m\u001b[38;5;241m.\u001b[39m_batch_times\u001b[38;5;241m.\u001b[39mappend(batch_time)\n\u001b[1;32m--> 340\u001b[0m \u001b[38;5;28;43mself\u001b[39;49m\u001b[38;5;241;43m.\u001b[39;49m\u001b[43m_call_batch_hook_helper\u001b[49m\u001b[43m(\u001b[49m\u001b[43mhook_name\u001b[49m\u001b[43m,\u001b[49m\u001b[43m \u001b[49m\u001b[43mbatch\u001b[49m\u001b[43m,\u001b[49m\u001b[43m \u001b[49m\u001b[43mlogs\u001b[49m\u001b[43m)\u001b[49m\n\u001b[0;32m    342\u001b[0m \u001b[38;5;28;01mif\u001b[39;00m \u001b[38;5;28mlen\u001b[39m(\u001b[38;5;28mself\u001b[39m\u001b[38;5;241m.\u001b[39m_batch_times) \u001b[38;5;241m>\u001b[39m\u001b[38;5;241m=\u001b[39m \u001b[38;5;28mself\u001b[39m\u001b[38;5;241m.\u001b[39m_num_batches_for_timing_check:\n\u001b[0;32m    343\u001b[0m     end_hook_name \u001b[38;5;241m=\u001b[39m hook_name\n",
      "File \u001b[1;32m~\\.conda\\envs\\py39\\lib\\site-packages\\keras\\callbacks.py:388\u001b[0m, in \u001b[0;36mCallbackList._call_batch_hook_helper\u001b[1;34m(self, hook_name, batch, logs)\u001b[0m\n\u001b[0;32m    386\u001b[0m \u001b[38;5;28;01mfor\u001b[39;00m callback \u001b[38;5;129;01min\u001b[39;00m \u001b[38;5;28mself\u001b[39m\u001b[38;5;241m.\u001b[39mcallbacks:\n\u001b[0;32m    387\u001b[0m     hook \u001b[38;5;241m=\u001b[39m \u001b[38;5;28mgetattr\u001b[39m(callback, hook_name)\n\u001b[1;32m--> 388\u001b[0m     \u001b[43mhook\u001b[49m\u001b[43m(\u001b[49m\u001b[43mbatch\u001b[49m\u001b[43m,\u001b[49m\u001b[43m \u001b[49m\u001b[43mlogs\u001b[49m\u001b[43m)\u001b[49m\n\u001b[0;32m    390\u001b[0m \u001b[38;5;28;01mif\u001b[39;00m \u001b[38;5;28mself\u001b[39m\u001b[38;5;241m.\u001b[39m_check_timing:\n\u001b[0;32m    391\u001b[0m     \u001b[38;5;28;01mif\u001b[39;00m hook_name \u001b[38;5;129;01mnot\u001b[39;00m \u001b[38;5;129;01min\u001b[39;00m \u001b[38;5;28mself\u001b[39m\u001b[38;5;241m.\u001b[39m_hook_times:\n",
      "File \u001b[1;32m~\\.conda\\envs\\py39\\lib\\site-packages\\keras\\callbacks.py:1081\u001b[0m, in \u001b[0;36mProgbarLogger.on_train_batch_end\u001b[1;34m(self, batch, logs)\u001b[0m\n\u001b[0;32m   1080\u001b[0m \u001b[38;5;28;01mdef\u001b[39;00m \u001b[38;5;21mon_train_batch_end\u001b[39m(\u001b[38;5;28mself\u001b[39m, batch, logs\u001b[38;5;241m=\u001b[39m\u001b[38;5;28;01mNone\u001b[39;00m):\n\u001b[1;32m-> 1081\u001b[0m     \u001b[38;5;28;43mself\u001b[39;49m\u001b[38;5;241;43m.\u001b[39;49m\u001b[43m_batch_update_progbar\u001b[49m\u001b[43m(\u001b[49m\u001b[43mbatch\u001b[49m\u001b[43m,\u001b[49m\u001b[43m \u001b[49m\u001b[43mlogs\u001b[49m\u001b[43m)\u001b[49m\n",
      "File \u001b[1;32m~\\.conda\\envs\\py39\\lib\\site-packages\\keras\\callbacks.py:1157\u001b[0m, in \u001b[0;36mProgbarLogger._batch_update_progbar\u001b[1;34m(self, batch, logs)\u001b[0m\n\u001b[0;32m   1153\u001b[0m     \u001b[38;5;28mself\u001b[39m\u001b[38;5;241m.\u001b[39mseen \u001b[38;5;241m+\u001b[39m\u001b[38;5;241m=\u001b[39m add_seen\n\u001b[0;32m   1155\u001b[0m \u001b[38;5;28;01mif\u001b[39;00m \u001b[38;5;28mself\u001b[39m\u001b[38;5;241m.\u001b[39mverbose \u001b[38;5;241m==\u001b[39m \u001b[38;5;241m1\u001b[39m:\n\u001b[0;32m   1156\u001b[0m     \u001b[38;5;66;03m# Only block async when verbose = 1.\u001b[39;00m\n\u001b[1;32m-> 1157\u001b[0m     logs \u001b[38;5;241m=\u001b[39m \u001b[43mtf_utils\u001b[49m\u001b[38;5;241;43m.\u001b[39;49m\u001b[43msync_to_numpy_or_python_type\u001b[49m\u001b[43m(\u001b[49m\u001b[43mlogs\u001b[49m\u001b[43m)\u001b[49m\n\u001b[0;32m   1158\u001b[0m     \u001b[38;5;28mself\u001b[39m\u001b[38;5;241m.\u001b[39mprogbar\u001b[38;5;241m.\u001b[39mupdate(\u001b[38;5;28mself\u001b[39m\u001b[38;5;241m.\u001b[39mseen, \u001b[38;5;28mlist\u001b[39m(logs\u001b[38;5;241m.\u001b[39mitems()), finalize\u001b[38;5;241m=\u001b[39m\u001b[38;5;28;01mFalse\u001b[39;00m)\n",
      "File \u001b[1;32m~\\.conda\\envs\\py39\\lib\\site-packages\\keras\\utils\\tf_utils.py:635\u001b[0m, in \u001b[0;36msync_to_numpy_or_python_type\u001b[1;34m(tensors)\u001b[0m\n\u001b[0;32m    632\u001b[0m         \u001b[38;5;28;01mreturn\u001b[39;00m t\n\u001b[0;32m    633\u001b[0m     \u001b[38;5;28;01mreturn\u001b[39;00m t\u001b[38;5;241m.\u001b[39mitem() \u001b[38;5;28;01mif\u001b[39;00m np\u001b[38;5;241m.\u001b[39mndim(t) \u001b[38;5;241m==\u001b[39m \u001b[38;5;241m0\u001b[39m \u001b[38;5;28;01melse\u001b[39;00m t\n\u001b[1;32m--> 635\u001b[0m \u001b[38;5;28;01mreturn\u001b[39;00m \u001b[43mtf\u001b[49m\u001b[38;5;241;43m.\u001b[39;49m\u001b[43mnest\u001b[49m\u001b[38;5;241;43m.\u001b[39;49m\u001b[43mmap_structure\u001b[49m\u001b[43m(\u001b[49m\u001b[43m_to_single_numpy_or_python_type\u001b[49m\u001b[43m,\u001b[49m\u001b[43m \u001b[49m\u001b[43mtensors\u001b[49m\u001b[43m)\u001b[49m\n",
      "File \u001b[1;32m~\\.conda\\envs\\py39\\lib\\site-packages\\tensorflow\\python\\util\\nest.py:917\u001b[0m, in \u001b[0;36mmap_structure\u001b[1;34m(func, *structure, **kwargs)\u001b[0m\n\u001b[0;32m    913\u001b[0m flat_structure \u001b[38;5;241m=\u001b[39m (flatten(s, expand_composites) \u001b[38;5;28;01mfor\u001b[39;00m s \u001b[38;5;129;01min\u001b[39;00m structure)\n\u001b[0;32m    914\u001b[0m entries \u001b[38;5;241m=\u001b[39m \u001b[38;5;28mzip\u001b[39m(\u001b[38;5;241m*\u001b[39mflat_structure)\n\u001b[0;32m    916\u001b[0m \u001b[38;5;28;01mreturn\u001b[39;00m pack_sequence_as(\n\u001b[1;32m--> 917\u001b[0m     structure[\u001b[38;5;241m0\u001b[39m], [func(\u001b[38;5;241m*\u001b[39mx) \u001b[38;5;28;01mfor\u001b[39;00m x \u001b[38;5;129;01min\u001b[39;00m entries],\n\u001b[0;32m    918\u001b[0m     expand_composites\u001b[38;5;241m=\u001b[39mexpand_composites)\n",
      "File \u001b[1;32m~\\.conda\\envs\\py39\\lib\\site-packages\\tensorflow\\python\\util\\nest.py:917\u001b[0m, in \u001b[0;36m<listcomp>\u001b[1;34m(.0)\u001b[0m\n\u001b[0;32m    913\u001b[0m flat_structure \u001b[38;5;241m=\u001b[39m (flatten(s, expand_composites) \u001b[38;5;28;01mfor\u001b[39;00m s \u001b[38;5;129;01min\u001b[39;00m structure)\n\u001b[0;32m    914\u001b[0m entries \u001b[38;5;241m=\u001b[39m \u001b[38;5;28mzip\u001b[39m(\u001b[38;5;241m*\u001b[39mflat_structure)\n\u001b[0;32m    916\u001b[0m \u001b[38;5;28;01mreturn\u001b[39;00m pack_sequence_as(\n\u001b[1;32m--> 917\u001b[0m     structure[\u001b[38;5;241m0\u001b[39m], [\u001b[43mfunc\u001b[49m\u001b[43m(\u001b[49m\u001b[38;5;241;43m*\u001b[39;49m\u001b[43mx\u001b[49m\u001b[43m)\u001b[49m \u001b[38;5;28;01mfor\u001b[39;00m x \u001b[38;5;129;01min\u001b[39;00m entries],\n\u001b[0;32m    918\u001b[0m     expand_composites\u001b[38;5;241m=\u001b[39mexpand_composites)\n",
      "File \u001b[1;32m~\\.conda\\envs\\py39\\lib\\site-packages\\keras\\utils\\tf_utils.py:628\u001b[0m, in \u001b[0;36msync_to_numpy_or_python_type.<locals>._to_single_numpy_or_python_type\u001b[1;34m(t)\u001b[0m\n\u001b[0;32m    625\u001b[0m \u001b[38;5;28;01mdef\u001b[39;00m \u001b[38;5;21m_to_single_numpy_or_python_type\u001b[39m(t):\n\u001b[0;32m    626\u001b[0m     \u001b[38;5;66;03m# Don't turn ragged or sparse tensors to NumPy.\u001b[39;00m\n\u001b[0;32m    627\u001b[0m     \u001b[38;5;28;01mif\u001b[39;00m \u001b[38;5;28misinstance\u001b[39m(t, tf\u001b[38;5;241m.\u001b[39mTensor):\n\u001b[1;32m--> 628\u001b[0m         t \u001b[38;5;241m=\u001b[39m \u001b[43mt\u001b[49m\u001b[38;5;241;43m.\u001b[39;49m\u001b[43mnumpy\u001b[49m\u001b[43m(\u001b[49m\u001b[43m)\u001b[49m\n\u001b[0;32m    629\u001b[0m     \u001b[38;5;66;03m# Strings, ragged and sparse tensors don't have .item(). Return them\u001b[39;00m\n\u001b[0;32m    630\u001b[0m     \u001b[38;5;66;03m# as-is.\u001b[39;00m\n\u001b[0;32m    631\u001b[0m     \u001b[38;5;28;01mif\u001b[39;00m \u001b[38;5;129;01mnot\u001b[39;00m \u001b[38;5;28misinstance\u001b[39m(t, (np\u001b[38;5;241m.\u001b[39mndarray, np\u001b[38;5;241m.\u001b[39mgeneric)):\n",
      "File \u001b[1;32m~\\.conda\\envs\\py39\\lib\\site-packages\\tensorflow\\python\\framework\\ops.py:1157\u001b[0m, in \u001b[0;36m_EagerTensorBase.numpy\u001b[1;34m(self)\u001b[0m\n\u001b[0;32m   1134\u001b[0m \u001b[38;5;250m\u001b[39m\u001b[38;5;124;03m\"\"\"Copy of the contents of this Tensor into a NumPy array or scalar.\u001b[39;00m\n\u001b[0;32m   1135\u001b[0m \n\u001b[0;32m   1136\u001b[0m \u001b[38;5;124;03mUnlike NumPy arrays, Tensors are immutable, so this method has to copy\u001b[39;00m\n\u001b[1;32m   (...)\u001b[0m\n\u001b[0;32m   1154\u001b[0m \u001b[38;5;124;03m    NumPy dtype.\u001b[39;00m\n\u001b[0;32m   1155\u001b[0m \u001b[38;5;124;03m\"\"\"\u001b[39;00m\n\u001b[0;32m   1156\u001b[0m \u001b[38;5;66;03m# TODO(slebedev): Consider avoiding a copy for non-CPU or remote tensors.\u001b[39;00m\n\u001b[1;32m-> 1157\u001b[0m maybe_arr \u001b[38;5;241m=\u001b[39m \u001b[38;5;28;43mself\u001b[39;49m\u001b[38;5;241;43m.\u001b[39;49m\u001b[43m_numpy\u001b[49m\u001b[43m(\u001b[49m\u001b[43m)\u001b[49m  \u001b[38;5;66;03m# pylint: disable=protected-access\u001b[39;00m\n\u001b[0;32m   1158\u001b[0m \u001b[38;5;28;01mreturn\u001b[39;00m maybe_arr\u001b[38;5;241m.\u001b[39mcopy() \u001b[38;5;28;01mif\u001b[39;00m \u001b[38;5;28misinstance\u001b[39m(maybe_arr, np\u001b[38;5;241m.\u001b[39mndarray) \u001b[38;5;28;01melse\u001b[39;00m maybe_arr\n",
      "File \u001b[1;32m~\\.conda\\envs\\py39\\lib\\site-packages\\tensorflow\\python\\framework\\ops.py:1123\u001b[0m, in \u001b[0;36m_EagerTensorBase._numpy\u001b[1;34m(self)\u001b[0m\n\u001b[0;32m   1121\u001b[0m \u001b[38;5;28;01mdef\u001b[39;00m \u001b[38;5;21m_numpy\u001b[39m(\u001b[38;5;28mself\u001b[39m):\n\u001b[0;32m   1122\u001b[0m   \u001b[38;5;28;01mtry\u001b[39;00m:\n\u001b[1;32m-> 1123\u001b[0m     \u001b[38;5;28;01mreturn\u001b[39;00m \u001b[38;5;28;43mself\u001b[39;49m\u001b[38;5;241;43m.\u001b[39;49m\u001b[43m_numpy_internal\u001b[49m\u001b[43m(\u001b[49m\u001b[43m)\u001b[49m\n\u001b[0;32m   1124\u001b[0m   \u001b[38;5;28;01mexcept\u001b[39;00m core\u001b[38;5;241m.\u001b[39m_NotOkStatusException \u001b[38;5;28;01mas\u001b[39;00m e:  \u001b[38;5;66;03m# pylint: disable=protected-access\u001b[39;00m\n\u001b[0;32m   1125\u001b[0m     \u001b[38;5;28;01mraise\u001b[39;00m core\u001b[38;5;241m.\u001b[39m_status_to_exception(e) \u001b[38;5;28;01mfrom\u001b[39;00m \u001b[38;5;28;01mNone\u001b[39;00m\n",
      "\u001b[1;31mKeyboardInterrupt\u001b[0m: "
     ]
    }
   ],
   "source": [
    "import pandas as pd\n",
    "from sklearn.model_selection import train_test_split\n",
    "from tensorflow.keras.callbacks import EarlyStopping, ModelCheckpoint, TensorBoard\n",
    "import os\n",
    "\n",
    "# Define the DataGenerator and model functions as per the previous updates\n",
    "# ...\n",
    "\n",
    "# Paths\n",
    "tsv_path = r'C:\\Users\\User\\Documents\\Dataset\\Brain Age\\train\\train_labels\\participants.tsv'\n",
    "data_dir = r'C:\\Users\\User\\Documents\\Dataset\\Brain Age\\train\\train_quasiraw'\n",
    "\n",
    "# Load participants information\n",
    "participants = pd.read_csv(tsv_path, sep='\\t')\n",
    "\n",
    "# Split the participants into training and validation sets\n",
    "train_participants, val_participants = train_test_split(participants, test_size=0.2, random_state=42)\n",
    "\n",
    "# Create data generators\n",
    "train_generator = DataGenerator(data_dir, train_participants, batch_size=16, dim=(76, 94, 72), shuffle=True)\n",
    "val_generator = DataGenerator(data_dir, val_participants, batch_size=16, dim=(76, 94, 72), shuffle=False)\n",
    "\n",
    "# Define the model\n",
    "input_shape = (76, 94, 72)\n",
    "model = generateAgeGenderPredictionResNet(input_shape, paddingType='same', initType='he_uniform', regAmount=0.00005, dropRate=0.2)\n",
    "\n",
    "# Compile the model\n",
    "model.compile(\n",
    "    optimizer='adam', \n",
    "    loss={'AgePrediction': 'mean_squared_error', 'GenderPrediction': 'binary_crossentropy'},\n",
    "    metrics={'AgePrediction': 'mae', 'GenderPrediction': 'accuracy'}\n",
    ")\n",
    "\n",
    "# Define callbacks\n",
    "early_stopping = EarlyStopping(monitor='val_loss', patience=10, restore_best_weights=True)\n",
    "checkpoint = ModelCheckpoint('./test_weights/MTL_3D_ResNet_Best.h5', monitor='val_loss', save_best_only=True, mode='min')\n",
    "tensorboard = TensorBoard(log_dir='./test_weights/logs_test')\n",
    "\n",
    "# Train the model\n",
    "history = model.fit(\n",
    "    train_generator,\n",
    "    validation_data=val_generator,\n",
    "    epochs=100,\n",
    "    callbacks=[early_stopping, checkpoint, tensorboard]\n",
    ")\n",
    "\n",
    "# Save the trained model\n",
    "model.save('./test_weights/MTL_3D_ResNet_weights.h5')"
   ]
  },
  {
   "cell_type": "code",
   "execution_count": 28,
   "id": "1a0efc5a-72f8-419e-92a7-09c1a5fb5b92",
   "metadata": {
    "scrolled": true
   },
   "outputs": [
    {
     "name": "stdout",
     "output_type": "stream",
     "text": [
      "Epoch 1/100\n",
      "161/161 [==============================] - 314s 2s/step - batch: 80.0000 - size: 16.0000 - loss: 9358751.4113 - mean_absolute_error: 360.1777 - val_loss: 467130.7331 - val_mean_absolute_error: 116.9538\n",
      "Epoch 2/100\n",
      "161/161 [==============================] - 306s 2s/step - batch: 80.0000 - size: 16.0000 - loss: 1193370.0898 - mean_absolute_error: 137.2098 - val_loss: 84681.0109 - val_mean_absolute_error: 44.2465\n",
      "Epoch 3/100\n",
      "161/161 [==============================] - 302s 2s/step - batch: 80.0000 - size: 16.0000 - loss: 52331.9634 - mean_absolute_error: 33.5531 - val_loss: 7021.4397 - val_mean_absolute_error: 15.3906\n",
      "Epoch 4/100\n",
      "161/161 [==============================] - 302s 2s/step - batch: 80.0000 - size: 16.0000 - loss: 80696.9346 - mean_absolute_error: 39.0963 - val_loss: 5283.7132 - val_mean_absolute_error: 17.8752\n",
      "Epoch 5/100\n",
      "161/161 [==============================] - 300s 2s/step - batch: 80.0000 - size: 16.0000 - loss: 687801.0568 - mean_absolute_error: 63.1001 - val_loss: 190058.2142 - val_mean_absolute_error: 68.8408\n",
      "Epoch 6/100\n",
      "161/161 [==============================] - 300s 2s/step - batch: 80.0000 - size: 16.0000 - loss: 621850.4128 - mean_absolute_error: 104.0117 - val_loss: 200426.6890 - val_mean_absolute_error: 75.1244\n",
      "Epoch 7/100\n",
      "161/161 [==============================] - 293s 2s/step - batch: 80.0000 - size: 16.0000 - loss: 391330.7377 - mean_absolute_error: 63.4031 - val_loss: 3851.5419 - val_mean_absolute_error: 18.4925\n",
      "Epoch 8/100\n",
      "161/161 [==============================] - 287s 2s/step - batch: 80.0000 - size: 16.0000 - loss: 16133.2514 - mean_absolute_error: 25.0849 - val_loss: 608.9388 - val_mean_absolute_error: 12.7909\n",
      "Epoch 9/100\n",
      "161/161 [==============================] - 283s 2s/step - batch: 80.0000 - size: 16.0000 - loss: 6882.4428 - mean_absolute_error: 20.5016 - val_loss: 571.4176 - val_mean_absolute_error: 13.2307\n",
      "Epoch 10/100\n",
      "161/161 [==============================] - 286s 2s/step - batch: 80.0000 - size: 16.0000 - loss: 5117.6810 - mean_absolute_error: 19.0026 - val_loss: 317.2757 - val_mean_absolute_error: 11.6466\n",
      "Epoch 11/100\n",
      "161/161 [==============================] - 287s 2s/step - batch: 80.0000 - size: 16.0000 - loss: 1907.9170 - mean_absolute_error: 16.0218 - val_loss: 256.0437 - val_mean_absolute_error: 11.0738\n",
      "Epoch 12/100\n",
      "161/161 [==============================] - 279s 2s/step - batch: 80.0000 - size: 16.0000 - loss: 4336.1819 - mean_absolute_error: 15.9606 - val_loss: 307.5167 - val_mean_absolute_error: 11.4499\n",
      "Epoch 13/100\n",
      "161/161 [==============================] - 280s 2s/step - batch: 80.0000 - size: 16.0000 - loss: 1154.1701 - mean_absolute_error: 14.7360 - val_loss: 269.3461 - val_mean_absolute_error: 10.9778\n",
      "Epoch 14/100\n",
      "161/161 [==============================] - 277s 2s/step - batch: 80.0000 - size: 16.0000 - loss: 602.1268 - mean_absolute_error: 13.6532 - val_loss: 277.9710 - val_mean_absolute_error: 11.1160\n",
      "Epoch 15/100\n",
      "161/161 [==============================] - 283s 2s/step - batch: 80.0000 - size: 16.0000 - loss: 925.1002 - mean_absolute_error: 14.3722 - val_loss: 264.0235 - val_mean_absolute_error: 10.7179\n",
      "Epoch 16/100\n",
      "161/161 [==============================] - 296s 2s/step - batch: 80.0000 - size: 16.0000 - loss: 476.2059 - mean_absolute_error: 12.7643 - val_loss: 266.3692 - val_mean_absolute_error: 11.1496\n",
      "Epoch 17/100\n",
      "161/161 [==============================] - 283s 2s/step - batch: 80.0000 - size: 16.0000 - loss: 458.9327 - mean_absolute_error: 12.9608 - val_loss: 251.2861 - val_mean_absolute_error: 10.5882\n",
      "Epoch 18/100\n",
      "161/161 [==============================] - 280s 2s/step - batch: 80.0000 - size: 16.0000 - loss: 396.6255 - mean_absolute_error: 12.4878 - val_loss: 248.9043 - val_mean_absolute_error: 10.6437\n",
      "Epoch 19/100\n",
      "161/161 [==============================] - 282s 2s/step - batch: 80.0000 - size: 16.0000 - loss: 349.1471 - mean_absolute_error: 12.1970 - val_loss: 241.5387 - val_mean_absolute_error: 10.7110\n",
      "Epoch 20/100\n",
      "161/161 [==============================] - 281s 2s/step - batch: 80.0000 - size: 16.0000 - loss: 362.5570 - mean_absolute_error: 12.2214 - val_loss: 238.5377 - val_mean_absolute_error: 10.2423\n",
      "Epoch 21/100\n",
      "161/161 [==============================] - 278s 2s/step - batch: 80.0000 - size: 16.0000 - loss: 300.3808 - mean_absolute_error: 11.8432 - val_loss: 226.3567 - val_mean_absolute_error: 10.1232\n",
      "Epoch 22/100\n",
      "161/161 [==============================] - 277s 2s/step - batch: 80.0000 - size: 16.0000 - loss: 276.8061 - mean_absolute_error: 11.7843 - val_loss: 224.7671 - val_mean_absolute_error: 10.4219\n",
      "Epoch 23/100\n",
      "161/161 [==============================] - 280s 2s/step - batch: 80.0000 - size: 16.0000 - loss: 275.2856 - mean_absolute_error: 11.6926 - val_loss: 218.3487 - val_mean_absolute_error: 10.1510\n",
      "Epoch 24/100\n",
      "161/161 [==============================] - 278s 2s/step - batch: 80.0000 - size: 16.0000 - loss: 263.5609 - mean_absolute_error: 11.5505 - val_loss: 220.2780 - val_mean_absolute_error: 10.2680\n",
      "Epoch 25/100\n",
      "161/161 [==============================] - 282s 2s/step - batch: 80.0000 - size: 16.0000 - loss: 259.2238 - mean_absolute_error: 11.4737 - val_loss: 221.8544 - val_mean_absolute_error: 9.8734\n",
      "Epoch 26/100\n",
      "161/161 [==============================] - 279s 2s/step - batch: 80.0000 - size: 16.0000 - loss: 256.0608 - mean_absolute_error: 11.2656 - val_loss: 211.0964 - val_mean_absolute_error: 9.6967\n",
      "Epoch 27/100\n",
      "161/161 [==============================] - 281s 2s/step - batch: 80.0000 - size: 16.0000 - loss: 249.5934 - mean_absolute_error: 11.1016 - val_loss: 210.2991 - val_mean_absolute_error: 9.3755\n",
      "Epoch 28/100\n",
      "161/161 [==============================] - 282s 2s/step - batch: 80.0000 - size: 16.0000 - loss: 249.6962 - mean_absolute_error: 11.0896 - val_loss: 210.6138 - val_mean_absolute_error: 9.7576\n",
      "Epoch 29/100\n",
      "161/161 [==============================] - 283s 2s/step - batch: 80.0000 - size: 16.0000 - loss: 242.2303 - mean_absolute_error: 11.0015 - val_loss: 215.0912 - val_mean_absolute_error: 8.9606\n",
      "Epoch 30/100\n",
      "161/161 [==============================] - 281s 2s/step - batch: 80.0000 - size: 16.0000 - loss: 240.7005 - mean_absolute_error: 10.8239 - val_loss: 209.3585 - val_mean_absolute_error: 10.2560\n",
      "Epoch 31/100\n",
      "161/161 [==============================] - 282s 2s/step - batch: 80.0000 - size: 16.0000 - loss: 244.9209 - mean_absolute_error: 10.8768 - val_loss: 207.9366 - val_mean_absolute_error: 9.7099\n",
      "Epoch 32/100\n",
      "161/161 [==============================] - 289s 2s/step - batch: 80.0000 - size: 16.0000 - loss: 237.2802 - mean_absolute_error: 10.6831 - val_loss: 208.4098 - val_mean_absolute_error: 9.0911\n",
      "Epoch 33/100\n",
      "161/161 [==============================] - 283s 2s/step - batch: 80.0000 - size: 16.0000 - loss: 236.2395 - mean_absolute_error: 10.6464 - val_loss: 208.2500 - val_mean_absolute_error: 9.8859\n",
      "Epoch 34/100\n",
      "161/161 [==============================] - 283s 2s/step - batch: 80.0000 - size: 16.0000 - loss: 238.1563 - mean_absolute_error: 10.6925 - val_loss: 210.3582 - val_mean_absolute_error: 8.9680\n",
      "Epoch 35/100\n",
      "161/161 [==============================] - 283s 2s/step - batch: 80.0000 - size: 16.0000 - loss: 227.3043 - mean_absolute_error: 10.4351 - val_loss: 198.1800 - val_mean_absolute_error: 9.2914\n",
      "Epoch 36/100\n",
      "161/161 [==============================] - 284s 2s/step - batch: 80.0000 - size: 16.0000 - loss: 238.0563 - mean_absolute_error: 10.6654 - val_loss: 206.9908 - val_mean_absolute_error: 10.2644\n",
      "Epoch 37/100\n",
      "161/161 [==============================] - 285s 2s/step - batch: 80.0000 - size: 16.0000 - loss: 224.8923 - mean_absolute_error: 10.4288 - val_loss: 206.1507 - val_mean_absolute_error: 8.6474\n",
      "Epoch 38/100\n",
      "161/161 [==============================] - 288s 2s/step - batch: 80.0000 - size: 16.0000 - loss: 228.0022 - mean_absolute_error: 10.4023 - val_loss: 201.1485 - val_mean_absolute_error: 9.4364\n",
      "Epoch 39/100\n",
      "161/161 [==============================] - 285s 2s/step - batch: 80.0000 - size: 16.0000 - loss: 224.0147 - mean_absolute_error: 10.2652 - val_loss: 205.9458 - val_mean_absolute_error: 9.8847\n",
      "Epoch 40/100\n",
      "161/161 [==============================] - 284s 2s/step - batch: 80.0000 - size: 16.0000 - loss: 220.9729 - mean_absolute_error: 10.1822 - val_loss: 207.6892 - val_mean_absolute_error: 10.7482\n",
      "Epoch 41/100\n",
      "161/161 [==============================] - 282s 2s/step - batch: 80.0000 - size: 16.0000 - loss: 223.6903 - mean_absolute_error: 10.2024 - val_loss: 198.7031 - val_mean_absolute_error: 8.9387\n",
      "Epoch 42/100\n",
      "161/161 [==============================] - 285s 2s/step - batch: 80.0000 - size: 16.0000 - loss: 221.2095 - mean_absolute_error: 10.1079 - val_loss: 196.4893 - val_mean_absolute_error: 9.1246\n",
      "Epoch 43/100\n",
      "161/161 [==============================] - 287s 2s/step - batch: 80.0000 - size: 16.0000 - loss: 220.1751 - mean_absolute_error: 10.0788 - val_loss: 195.0719 - val_mean_absolute_error: 9.0418\n",
      "Epoch 44/100\n",
      "161/161 [==============================] - 284s 2s/step - batch: 80.0000 - size: 16.0000 - loss: 218.5939 - mean_absolute_error: 10.0128 - val_loss: 197.2270 - val_mean_absolute_error: 8.6264\n",
      "Epoch 45/100\n",
      "161/161 [==============================] - 287s 2s/step - batch: 80.0000 - size: 16.0000 - loss: 213.2602 - mean_absolute_error: 9.9400 - val_loss: 197.3015 - val_mean_absolute_error: 8.9118\n",
      "Epoch 46/100\n",
      "161/161 [==============================] - 283s 2s/step - batch: 80.0000 - size: 16.0000 - loss: 214.7430 - mean_absolute_error: 9.9239 - val_loss: 210.5580 - val_mean_absolute_error: 10.7967\n",
      "Epoch 47/100\n",
      "161/161 [==============================] - 287s 2s/step - batch: 80.0000 - size: 16.0000 - loss: 208.6183 - mean_absolute_error: 9.8047 - val_loss: 197.5777 - val_mean_absolute_error: 8.9078\n",
      "Epoch 48/100\n",
      "161/161 [==============================] - 288s 2s/step - batch: 80.0000 - size: 16.0000 - loss: 211.9599 - mean_absolute_error: 9.7760 - val_loss: 190.9265 - val_mean_absolute_error: 8.6037\n",
      "Epoch 49/100\n",
      "161/161 [==============================] - 283s 2s/step - batch: 80.0000 - size: 16.0000 - loss: 208.0673 - mean_absolute_error: 9.6843 - val_loss: 195.7979 - val_mean_absolute_error: 9.5945\n",
      "Epoch 50/100\n",
      "161/161 [==============================] - 286s 2s/step - batch: 80.0000 - size: 16.0000 - loss: 207.5662 - mean_absolute_error: 9.7313 - val_loss: 188.5596 - val_mean_absolute_error: 8.7847\n",
      "Epoch 51/100\n",
      "161/161 [==============================] - 285s 2s/step - batch: 80.0000 - size: 16.0000 - loss: 213.8095 - mean_absolute_error: 9.8204 - val_loss: 204.5508 - val_mean_absolute_error: 9.4601\n",
      "Epoch 52/100\n",
      "161/161 [==============================] - 285s 2s/step - batch: 80.0000 - size: 16.0000 - loss: 210.5858 - mean_absolute_error: 9.7899 - val_loss: 191.4630 - val_mean_absolute_error: 8.9015\n",
      "Epoch 53/100\n",
      "161/161 [==============================] - 283s 2s/step - batch: 80.0000 - size: 16.0000 - loss: 202.1371 - mean_absolute_error: 9.6550 - val_loss: 192.9407 - val_mean_absolute_error: 9.4388\n",
      "Epoch 54/100\n",
      "161/161 [==============================] - 282s 2s/step - batch: 80.0000 - size: 16.0000 - loss: 204.8502 - mean_absolute_error: 9.6157 - val_loss: 194.8279 - val_mean_absolute_error: 9.3562\n",
      "Epoch 55/100\n",
      "161/161 [==============================] - 286s 2s/step - batch: 80.0000 - size: 16.0000 - loss: 204.0123 - mean_absolute_error: 9.5792 - val_loss: 191.3111 - val_mean_absolute_error: 8.7086\n",
      "Epoch 56/100\n",
      "161/161 [==============================] - 283s 2s/step - batch: 80.0000 - size: 16.0000 - loss: 198.7364 - mean_absolute_error: 9.3752 - val_loss: 201.4289 - val_mean_absolute_error: 10.6166\n",
      "Epoch 57/100\n",
      "161/161 [==============================] - 286s 2s/step - batch: 80.0000 - size: 16.0000 - loss: 196.9638 - mean_absolute_error: 9.5198 - val_loss: 187.9986 - val_mean_absolute_error: 9.4906\n",
      "Epoch 58/100\n",
      "161/161 [==============================] - 287s 2s/step - batch: 80.0000 - size: 16.0000 - loss: 199.5139 - mean_absolute_error: 9.6228 - val_loss: 193.1295 - val_mean_absolute_error: 9.7992\n",
      "Epoch 59/100\n",
      "161/161 [==============================] - 288s 2s/step - batch: 80.0000 - size: 16.0000 - loss: 192.3838 - mean_absolute_error: 9.4520 - val_loss: 187.6255 - val_mean_absolute_error: 8.9154\n",
      "Epoch 60/100\n",
      "161/161 [==============================] - 288s 2s/step - batch: 80.0000 - size: 16.0000 - loss: 191.1146 - mean_absolute_error: 9.3474 - val_loss: 181.7332 - val_mean_absolute_error: 8.5902\n",
      "Epoch 61/100\n",
      "161/161 [==============================] - 284s 2s/step - batch: 80.0000 - size: 16.0000 - loss: 194.4200 - mean_absolute_error: 9.5077 - val_loss: 184.2951 - val_mean_absolute_error: 8.8185\n",
      "Epoch 62/100\n",
      "161/161 [==============================] - 286s 2s/step - batch: 80.0000 - size: 16.0000 - loss: 196.3372 - mean_absolute_error: 9.5500 - val_loss: 183.7867 - val_mean_absolute_error: 9.3022\n",
      "Epoch 63/100\n",
      "161/161 [==============================] - 287s 2s/step - batch: 80.0000 - size: 16.0000 - loss: 198.7197 - mean_absolute_error: 9.6396 - val_loss: 197.2343 - val_mean_absolute_error: 9.5259\n",
      "Epoch 64/100\n",
      "161/161 [==============================] - 284s 2s/step - batch: 80.0000 - size: 16.0000 - loss: 195.4748 - mean_absolute_error: 9.4993 - val_loss: 181.4784 - val_mean_absolute_error: 9.6923\n",
      "Epoch 65/100\n",
      "161/161 [==============================] - 288s 2s/step - batch: 80.0000 - size: 16.0000 - loss: 193.0294 - mean_absolute_error: 9.4676 - val_loss: 180.4280 - val_mean_absolute_error: 8.7694\n",
      "Epoch 66/100\n",
      "161/161 [==============================] - 286s 2s/step - batch: 80.0000 - size: 16.0000 - loss: 191.5679 - mean_absolute_error: 9.3407 - val_loss: 178.4042 - val_mean_absolute_error: 8.3870\n",
      "Epoch 67/100\n",
      "161/161 [==============================] - 286s 2s/step - batch: 80.0000 - size: 16.0000 - loss: 161298079.9359 - mean_absolute_error: 1002.3248 - val_loss: 76787.1039 - val_mean_absolute_error: 47.7052\n",
      "Epoch 68/100\n",
      "161/161 [==============================] - 285s 2s/step - batch: 80.0000 - size: 16.0000 - loss: 94999.0602 - mean_absolute_error: 36.2024 - val_loss: 302.1632 - val_mean_absolute_error: 9.7309\n",
      "Epoch 69/100\n",
      "161/161 [==============================] - 286s 2s/step - batch: 80.0000 - size: 16.0000 - loss: 260.7249 - mean_absolute_error: 9.2624 - val_loss: 233.5633 - val_mean_absolute_error: 8.6975\n",
      "Epoch 70/100\n",
      "161/161 [==============================] - 284s 2s/step - batch: 80.0000 - size: 16.0000 - loss: 244.2335 - mean_absolute_error: 8.9346 - val_loss: 232.9109 - val_mean_absolute_error: 8.6596\n",
      "Epoch 71/100\n",
      "161/161 [==============================] - 286s 2s/step - batch: 80.0000 - size: 16.0000 - loss: 243.9105 - mean_absolute_error: 8.9021 - val_loss: 232.5508 - val_mean_absolute_error: 8.6732\n",
      "Epoch 72/100\n",
      "161/161 [==============================] - 290s 2s/step - batch: 80.0000 - size: 16.0000 - loss: 242.9701 - mean_absolute_error: 8.9013 - val_loss: 231.8937 - val_mean_absolute_error: 8.6424\n",
      "Epoch 73/100\n",
      "161/161 [==============================] - 282s 2s/step - batch: 80.0000 - size: 16.0000 - loss: 239.3588 - mean_absolute_error: 8.8512 - val_loss: 231.2013 - val_mean_absolute_error: 8.6207\n",
      "Epoch 74/100\n",
      "161/161 [==============================] - 286s 2s/step - batch: 80.0000 - size: 16.0000 - loss: 240.6917 - mean_absolute_error: 8.8575 - val_loss: 230.5589 - val_mean_absolute_error: 8.6096\n",
      "Epoch 75/100\n",
      "161/161 [==============================] - 284s 2s/step - batch: 80.0000 - size: 16.0000 - loss: 240.0480 - mean_absolute_error: 8.8842 - val_loss: 229.9958 - val_mean_absolute_error: 8.6031\n",
      "Epoch 76/100\n",
      "161/161 [==============================] - 288s 2s/step - batch: 80.0000 - size: 16.0000 - loss: 239.2587 - mean_absolute_error: 8.8391 - val_loss: 229.4216 - val_mean_absolute_error: 8.6073\n"
     ]
    }
   ],
   "source": [
    "# Create data generators\n",
    "train_generator = DataGenerator(data_dir, train_participants, batch_size=16, dim=(70, 90, 70), shuffle=True)\n",
    "val_generator = DataGenerator(data_dir, val_participants, batch_size=16, dim=(70, 90, 70), shuffle=False)\n",
    "\n",
    "# Define the model\n",
    "input_shape = (70, 90, 70)\n",
    "model = generateAgePredictionResNet(input_shape, paddingType='same', initType='he_uniform', regAmount=0.00005, dropRate=0.2, includeScannerGender=False)\n",
    "model_path = 'age_prediction_model_baan.h5' # Previously trained wegiths \n",
    "model = load_model(model_path)\n",
    "# Compile the model\n",
    "model.compile(optimizer='adam', loss='mean_squared_error', metrics=['mae'])\n",
    "\n",
    "# Define callbacks\n",
    "early_stopping = EarlyStopping(monitor='val_loss', patience=10, restore_best_weights=True)\n",
    "checkpoint = ModelCheckpoint('best_weights.h5', monitor='val_loss', save_best_only=True, mode='min')\n",
    "tensorboard = TensorBoard(log_dir='./logs')\n",
    "\n",
    "# Train the model\n",
    "history = model.fit(\n",
    "    train_generator,\n",
    "    validation_data=val_generator,\n",
    "    epochs=100,\n",
    "    callbacks=[early_stopping, checkpoint, tensorboard]\n",
    ")\n",
    "\n",
    "# Save the trained model\n",
    "model.save('age_prediction_model_baan_n.h5')"
   ]
  },
  {
   "cell_type": "markdown",
   "id": "1a29afa3-a917-4ae9-b244-c1ee835282b2",
   "metadata": {},
   "source": [
    "## Inference "
   ]
  },
  {
   "cell_type": "code",
   "execution_count": 3,
   "id": "1581b1b8-063f-4691-981f-453d71ae2524",
   "metadata": {
    "scrolled": true
   },
   "outputs": [
    {
     "name": "stderr",
     "output_type": "stream",
     "text": [
      "1it [00:04,  4.67s/it]"
     ]
    },
    {
     "name": "stdout",
     "output_type": "stream",
     "text": [
      "[[22.410727]]\n",
      "[[34.616978]]\n",
      "[[23.60645]]\n"
     ]
    },
    {
     "name": "stderr",
     "output_type": "stream",
     "text": [
      "6it [00:05,  2.20it/s]"
     ]
    },
    {
     "name": "stdout",
     "output_type": "stream",
     "text": [
      "[[21.76538]]\n",
      "[[19.083347]]\n",
      "[[23.264935]]\n"
     ]
    },
    {
     "name": "stderr",
     "output_type": "stream",
     "text": [
      "8it [00:05,  3.51it/s]"
     ]
    },
    {
     "name": "stdout",
     "output_type": "stream",
     "text": [
      "[[19.416311]]\n",
      "[[16.582388]]\n"
     ]
    },
    {
     "name": "stderr",
     "output_type": "stream",
     "text": [
      "9it [00:05,  4.16it/s]"
     ]
    },
    {
     "name": "stdout",
     "output_type": "stream",
     "text": [
      "[[20.42078]]\n",
      "[[16.996408]]\n",
      "[[13.516345]]\n"
     ]
    },
    {
     "name": "stderr",
     "output_type": "stream",
     "text": [
      "13it [00:05,  6.71it/s]"
     ]
    },
    {
     "name": "stdout",
     "output_type": "stream",
     "text": [
      "[[21.192528]]\n",
      "[[12.524864]]\n"
     ]
    },
    {
     "name": "stderr",
     "output_type": "stream",
     "text": [
      "14it [00:06,  7.22it/s]"
     ]
    },
    {
     "name": "stdout",
     "output_type": "stream",
     "text": [
      "[[19.655762]]\n",
      "[[20.819134]]\n",
      "[[20.79273]]\n"
     ]
    },
    {
     "name": "stderr",
     "output_type": "stream",
     "text": [
      "18it [00:06,  8.82it/s]"
     ]
    },
    {
     "name": "stdout",
     "output_type": "stream",
     "text": [
      "[[20.567654]]\n",
      "[[24.439661]]\n",
      "[[23.540462]]\n"
     ]
    },
    {
     "name": "stderr",
     "output_type": "stream",
     "text": [
      "20it [00:06,  6.49it/s]"
     ]
    },
    {
     "name": "stdout",
     "output_type": "stream",
     "text": [
      "[[38.06271]]\n"
     ]
    },
    {
     "name": "stderr",
     "output_type": "stream",
     "text": [
      "22it [00:07,  6.36it/s]"
     ]
    },
    {
     "name": "stdout",
     "output_type": "stream",
     "text": [
      "[[17.86404]]\n",
      "[[19.326275]]\n"
     ]
    },
    {
     "name": "stderr",
     "output_type": "stream",
     "text": [
      "24it [00:07,  7.41it/s]"
     ]
    },
    {
     "name": "stdout",
     "output_type": "stream",
     "text": [
      "[[22.06169]]\n",
      "[[20.960833]]\n"
     ]
    },
    {
     "name": "stderr",
     "output_type": "stream",
     "text": [
      "26it [00:07,  8.18it/s]"
     ]
    },
    {
     "name": "stdout",
     "output_type": "stream",
     "text": [
      "[[19.015873]]\n",
      "[[26.56374]]\n"
     ]
    },
    {
     "name": "stderr",
     "output_type": "stream",
     "text": [
      "28it [00:07,  8.77it/s]"
     ]
    },
    {
     "name": "stdout",
     "output_type": "stream",
     "text": [
      "[[11.805909]]\n",
      "[[44.435627]]\n"
     ]
    },
    {
     "name": "stderr",
     "output_type": "stream",
     "text": [
      "30it [00:08,  7.88it/s]"
     ]
    },
    {
     "name": "stdout",
     "output_type": "stream",
     "text": [
      "[[19.670033]]\n",
      "[[18.531866]]\n"
     ]
    },
    {
     "name": "stderr",
     "output_type": "stream",
     "text": [
      "32it [00:08,  8.18it/s]"
     ]
    },
    {
     "name": "stdout",
     "output_type": "stream",
     "text": [
      "[[24.009792]]\n",
      "[[21.557556]]\n"
     ]
    },
    {
     "name": "stderr",
     "output_type": "stream",
     "text": [
      "34it [00:08,  8.22it/s]"
     ]
    },
    {
     "name": "stdout",
     "output_type": "stream",
     "text": [
      "[[10.670193]]\n",
      "[[12.196458]]\n"
     ]
    },
    {
     "name": "stderr",
     "output_type": "stream",
     "text": [
      "36it [00:08,  8.28it/s]"
     ]
    },
    {
     "name": "stdout",
     "output_type": "stream",
     "text": [
      "[[67.1754]]\n",
      "[[21.809269]]\n"
     ]
    },
    {
     "name": "stderr",
     "output_type": "stream",
     "text": [
      "38it [00:09,  8.32it/s]"
     ]
    },
    {
     "name": "stdout",
     "output_type": "stream",
     "text": [
      "[[22.678055]]\n",
      "[[23.610796]]\n"
     ]
    },
    {
     "name": "stderr",
     "output_type": "stream",
     "text": [
      "40it [00:09,  8.26it/s]"
     ]
    },
    {
     "name": "stdout",
     "output_type": "stream",
     "text": [
      "[[22.288494]]\n",
      "[[25.882927]]\n"
     ]
    },
    {
     "name": "stderr",
     "output_type": "stream",
     "text": [
      "42it [00:09,  8.47it/s]"
     ]
    },
    {
     "name": "stdout",
     "output_type": "stream",
     "text": [
      "[[23.780193]]\n",
      "[[15.1501465]]\n"
     ]
    },
    {
     "name": "stderr",
     "output_type": "stream",
     "text": [
      "44it [00:09,  8.20it/s]"
     ]
    },
    {
     "name": "stdout",
     "output_type": "stream",
     "text": [
      "[[23.76968]]\n",
      "[[26.003876]]\n"
     ]
    },
    {
     "name": "stderr",
     "output_type": "stream",
     "text": [
      "46it [00:10,  7.90it/s]"
     ]
    },
    {
     "name": "stdout",
     "output_type": "stream",
     "text": [
      "[[21.66287]]\n",
      "[[19.715675]]\n"
     ]
    },
    {
     "name": "stderr",
     "output_type": "stream",
     "text": [
      "48it [00:10,  7.64it/s]"
     ]
    },
    {
     "name": "stdout",
     "output_type": "stream",
     "text": [
      "[[19.895653]]\n",
      "[[13.293475]]\n"
     ]
    },
    {
     "name": "stderr",
     "output_type": "stream",
     "text": [
      "49it [00:10,  7.53it/s]"
     ]
    },
    {
     "name": "stdout",
     "output_type": "stream",
     "text": [
      "[[21.405533]]\n"
     ]
    },
    {
     "name": "stderr",
     "output_type": "stream",
     "text": [
      "51it [00:10,  6.30it/s]"
     ]
    },
    {
     "name": "stdout",
     "output_type": "stream",
     "text": [
      "[[10.981372]]\n",
      "[[9.844709]]\n"
     ]
    },
    {
     "name": "stderr",
     "output_type": "stream",
     "text": [
      "53it [00:11,  5.47it/s]"
     ]
    },
    {
     "name": "stdout",
     "output_type": "stream",
     "text": [
      "[[20.566183]]\n",
      "[[18.444807]]\n"
     ]
    },
    {
     "name": "stderr",
     "output_type": "stream",
     "text": [
      "55it [00:11,  5.95it/s]"
     ]
    },
    {
     "name": "stdout",
     "output_type": "stream",
     "text": [
      "[[28.824745]]\n",
      "[[21.232567]]\n"
     ]
    },
    {
     "name": "stderr",
     "output_type": "stream",
     "text": [
      "57it [00:11,  6.77it/s]"
     ]
    },
    {
     "name": "stdout",
     "output_type": "stream",
     "text": [
      "[[13.470359]]\n",
      "[[12.58446]]\n"
     ]
    },
    {
     "name": "stderr",
     "output_type": "stream",
     "text": [
      "59it [00:12,  7.01it/s]"
     ]
    },
    {
     "name": "stdout",
     "output_type": "stream",
     "text": [
      "[[20.430424]]\n",
      "[[20.723694]]\n"
     ]
    },
    {
     "name": "stderr",
     "output_type": "stream",
     "text": [
      "61it [00:12,  6.60it/s]"
     ]
    },
    {
     "name": "stdout",
     "output_type": "stream",
     "text": [
      "[[23.954264]]\n",
      "[[18.921135]]\n"
     ]
    },
    {
     "name": "stderr",
     "output_type": "stream",
     "text": [
      "63it [00:12,  6.70it/s]"
     ]
    },
    {
     "name": "stdout",
     "output_type": "stream",
     "text": [
      "[[25.291576]]\n",
      "[[25.382086]]\n"
     ]
    },
    {
     "name": "stderr",
     "output_type": "stream",
     "text": [
      "65it [00:13,  6.49it/s]"
     ]
    },
    {
     "name": "stdout",
     "output_type": "stream",
     "text": [
      "[[12.693756]]\n",
      "[[17.574677]]\n"
     ]
    },
    {
     "name": "stderr",
     "output_type": "stream",
     "text": [
      "67it [00:13,  5.89it/s]"
     ]
    },
    {
     "name": "stdout",
     "output_type": "stream",
     "text": [
      "[[48.75239]]\n",
      "[[29.982656]]\n"
     ]
    },
    {
     "name": "stderr",
     "output_type": "stream",
     "text": [
      "69it [00:13,  5.55it/s]"
     ]
    },
    {
     "name": "stdout",
     "output_type": "stream",
     "text": [
      "[[20.311249]]\n",
      "[[35.98015]]\n"
     ]
    },
    {
     "name": "stderr",
     "output_type": "stream",
     "text": [
      "71it [00:14,  6.26it/s]"
     ]
    },
    {
     "name": "stdout",
     "output_type": "stream",
     "text": [
      "[[21.00161]]\n",
      "[[21.619373]]\n"
     ]
    },
    {
     "name": "stderr",
     "output_type": "stream",
     "text": [
      "73it [00:14,  6.92it/s]"
     ]
    },
    {
     "name": "stdout",
     "output_type": "stream",
     "text": [
      "[[22.872225]]\n",
      "[[10.471402]]\n"
     ]
    },
    {
     "name": "stderr",
     "output_type": "stream",
     "text": [
      "75it [00:14,  6.99it/s]"
     ]
    },
    {
     "name": "stdout",
     "output_type": "stream",
     "text": [
      "[[22.906662]]\n",
      "[[27.76881]]\n"
     ]
    },
    {
     "name": "stderr",
     "output_type": "stream",
     "text": [
      "77it [00:14,  7.29it/s]"
     ]
    },
    {
     "name": "stdout",
     "output_type": "stream",
     "text": [
      "[[17.597849]]\n",
      "[[9.749117]]\n"
     ]
    },
    {
     "name": "stderr",
     "output_type": "stream",
     "text": [
      "79it [00:15,  7.56it/s]"
     ]
    },
    {
     "name": "stdout",
     "output_type": "stream",
     "text": [
      "[[26.905579]]\n",
      "[[18.69263]]\n"
     ]
    },
    {
     "name": "stderr",
     "output_type": "stream",
     "text": [
      "81it [00:15,  7.64it/s]"
     ]
    },
    {
     "name": "stdout",
     "output_type": "stream",
     "text": [
      "[[17.11105]]\n",
      "[[12.771118]]\n"
     ]
    },
    {
     "name": "stderr",
     "output_type": "stream",
     "text": [
      "83it [00:15,  7.60it/s]"
     ]
    },
    {
     "name": "stdout",
     "output_type": "stream",
     "text": [
      "[[19.60868]]\n",
      "[[23.725746]]\n"
     ]
    },
    {
     "name": "stderr",
     "output_type": "stream",
     "text": [
      "85it [00:15,  7.26it/s]"
     ]
    },
    {
     "name": "stdout",
     "output_type": "stream",
     "text": [
      "[[37.006428]]\n",
      "[[15.207358]]\n"
     ]
    },
    {
     "name": "stderr",
     "output_type": "stream",
     "text": [
      "87it [00:16,  6.63it/s]"
     ]
    },
    {
     "name": "stdout",
     "output_type": "stream",
     "text": [
      "[[19.764687]]\n",
      "[[22.909554]]\n"
     ]
    },
    {
     "name": "stderr",
     "output_type": "stream",
     "text": [
      "89it [00:16,  6.95it/s]"
     ]
    },
    {
     "name": "stdout",
     "output_type": "stream",
     "text": [
      "[[49.48789]]\n",
      "[[38.60464]]\n"
     ]
    },
    {
     "name": "stderr",
     "output_type": "stream",
     "text": [
      "91it [00:16,  7.30it/s]"
     ]
    },
    {
     "name": "stdout",
     "output_type": "stream",
     "text": [
      "[[22.118155]]\n",
      "[[20.006218]]\n"
     ]
    },
    {
     "name": "stderr",
     "output_type": "stream",
     "text": [
      "93it [00:17,  7.39it/s]"
     ]
    },
    {
     "name": "stdout",
     "output_type": "stream",
     "text": [
      "[[18.11333]]\n",
      "[[22.309366]]\n"
     ]
    },
    {
     "name": "stderr",
     "output_type": "stream",
     "text": [
      "95it [00:17,  7.28it/s]"
     ]
    },
    {
     "name": "stdout",
     "output_type": "stream",
     "text": [
      "[[27.406895]]\n",
      "[[25.557592]]\n"
     ]
    },
    {
     "name": "stderr",
     "output_type": "stream",
     "text": [
      "97it [00:17,  7.40it/s]"
     ]
    },
    {
     "name": "stdout",
     "output_type": "stream",
     "text": [
      "[[13.922317]]\n",
      "[[27.496407]]\n"
     ]
    },
    {
     "name": "stderr",
     "output_type": "stream",
     "text": [
      "99it [00:17,  7.60it/s]"
     ]
    },
    {
     "name": "stdout",
     "output_type": "stream",
     "text": [
      "[[21.387089]]\n",
      "[[22.133833]]\n"
     ]
    },
    {
     "name": "stderr",
     "output_type": "stream",
     "text": [
      "101it [00:18,  7.96it/s]"
     ]
    },
    {
     "name": "stdout",
     "output_type": "stream",
     "text": [
      "[[31.611687]]\n",
      "[[20.563927]]\n"
     ]
    },
    {
     "name": "stderr",
     "output_type": "stream",
     "text": [
      "103it [00:18,  7.77it/s]"
     ]
    },
    {
     "name": "stdout",
     "output_type": "stream",
     "text": [
      "[[29.108158]]\n",
      "[[12.073592]]\n"
     ]
    },
    {
     "name": "stderr",
     "output_type": "stream",
     "text": [
      "105it [00:18,  7.76it/s]"
     ]
    },
    {
     "name": "stdout",
     "output_type": "stream",
     "text": [
      "[[17.456272]]\n",
      "[[21.85152]]\n"
     ]
    },
    {
     "name": "stderr",
     "output_type": "stream",
     "text": [
      "107it [00:18,  7.53it/s]"
     ]
    },
    {
     "name": "stdout",
     "output_type": "stream",
     "text": [
      "[[20.223011]]\n",
      "[[21.176065]]\n"
     ]
    },
    {
     "name": "stderr",
     "output_type": "stream",
     "text": [
      "109it [00:19,  7.57it/s]"
     ]
    },
    {
     "name": "stdout",
     "output_type": "stream",
     "text": [
      "[[25.134722]]\n",
      "[[18.033192]]\n"
     ]
    },
    {
     "name": "stderr",
     "output_type": "stream",
     "text": [
      "111it [00:19,  7.42it/s]"
     ]
    },
    {
     "name": "stdout",
     "output_type": "stream",
     "text": [
      "[[21.46585]]\n",
      "[[20.716488]]\n"
     ]
    },
    {
     "name": "stderr",
     "output_type": "stream",
     "text": [
      "113it [00:19,  7.55it/s]"
     ]
    },
    {
     "name": "stdout",
     "output_type": "stream",
     "text": [
      "[[18.52687]]\n",
      "[[34.958473]]\n"
     ]
    },
    {
     "name": "stderr",
     "output_type": "stream",
     "text": [
      "115it [00:19,  7.43it/s]"
     ]
    },
    {
     "name": "stdout",
     "output_type": "stream",
     "text": [
      "[[19.527872]]\n",
      "[[20.006248]]\n"
     ]
    },
    {
     "name": "stderr",
     "output_type": "stream",
     "text": [
      "117it [00:20,  7.41it/s]"
     ]
    },
    {
     "name": "stdout",
     "output_type": "stream",
     "text": [
      "[[19.102043]]\n",
      "[[24.0933]]\n"
     ]
    },
    {
     "name": "stderr",
     "output_type": "stream",
     "text": [
      "119it [00:20,  6.92it/s]"
     ]
    },
    {
     "name": "stdout",
     "output_type": "stream",
     "text": [
      "[[31.72261]]\n",
      "[[21.100422]]\n"
     ]
    },
    {
     "name": "stderr",
     "output_type": "stream",
     "text": [
      "121it [00:20,  6.98it/s]"
     ]
    },
    {
     "name": "stdout",
     "output_type": "stream",
     "text": [
      "[[24.644857]]\n",
      "[[12.639714]]\n"
     ]
    },
    {
     "name": "stderr",
     "output_type": "stream",
     "text": [
      "123it [00:21,  7.27it/s]"
     ]
    },
    {
     "name": "stdout",
     "output_type": "stream",
     "text": [
      "[[22.455168]]\n",
      "[[21.009129]]\n"
     ]
    },
    {
     "name": "stderr",
     "output_type": "stream",
     "text": [
      "125it [00:21,  7.21it/s]"
     ]
    },
    {
     "name": "stdout",
     "output_type": "stream",
     "text": [
      "[[18.82702]]\n",
      "[[16.308462]]\n"
     ]
    },
    {
     "name": "stderr",
     "output_type": "stream",
     "text": [
      "127it [00:21,  7.41it/s]"
     ]
    },
    {
     "name": "stdout",
     "output_type": "stream",
     "text": [
      "[[19.60925]]\n",
      "[[17.925808]]\n"
     ]
    },
    {
     "name": "stderr",
     "output_type": "stream",
     "text": [
      "128it [00:21,  7.45it/s]"
     ]
    },
    {
     "name": "stdout",
     "output_type": "stream",
     "text": [
      "[[39.737827]]\n"
     ]
    },
    {
     "name": "stderr",
     "output_type": "stream",
     "text": [
      "130it [00:22,  6.13it/s]"
     ]
    },
    {
     "name": "stdout",
     "output_type": "stream",
     "text": [
      "[[21.966248]]\n",
      "[[25.725086]]\n"
     ]
    },
    {
     "name": "stderr",
     "output_type": "stream",
     "text": [
      "132it [00:22,  6.71it/s]"
     ]
    },
    {
     "name": "stdout",
     "output_type": "stream",
     "text": [
      "[[19.086449]]\n",
      "[[13.440705]]\n"
     ]
    },
    {
     "name": "stderr",
     "output_type": "stream",
     "text": [
      "134it [00:22,  6.92it/s]"
     ]
    },
    {
     "name": "stdout",
     "output_type": "stream",
     "text": [
      "[[20.105091]]\n",
      "[[22.030872]]\n"
     ]
    },
    {
     "name": "stderr",
     "output_type": "stream",
     "text": [
      "136it [00:23,  7.16it/s]"
     ]
    },
    {
     "name": "stdout",
     "output_type": "stream",
     "text": [
      "[[12.254497]]\n",
      "[[19.914337]]\n"
     ]
    },
    {
     "name": "stderr",
     "output_type": "stream",
     "text": [
      "138it [00:23,  7.42it/s]"
     ]
    },
    {
     "name": "stdout",
     "output_type": "stream",
     "text": [
      "[[18.735203]]\n",
      "[[32.632717]]\n"
     ]
    },
    {
     "name": "stderr",
     "output_type": "stream",
     "text": [
      "140it [00:23,  7.32it/s]"
     ]
    },
    {
     "name": "stdout",
     "output_type": "stream",
     "text": [
      "[[11.891477]]\n",
      "[[49.30647]]\n"
     ]
    },
    {
     "name": "stderr",
     "output_type": "stream",
     "text": [
      "142it [00:23,  7.30it/s]"
     ]
    },
    {
     "name": "stdout",
     "output_type": "stream",
     "text": [
      "[[11.81051]]\n",
      "[[19.500486]]\n"
     ]
    },
    {
     "name": "stderr",
     "output_type": "stream",
     "text": [
      "144it [00:24,  7.49it/s]"
     ]
    },
    {
     "name": "stdout",
     "output_type": "stream",
     "text": [
      "[[16.483616]]\n",
      "[[20.689127]]\n"
     ]
    },
    {
     "name": "stderr",
     "output_type": "stream",
     "text": [
      "146it [00:24,  7.62it/s]"
     ]
    },
    {
     "name": "stdout",
     "output_type": "stream",
     "text": [
      "[[51.923153]]\n",
      "[[20.782612]]\n"
     ]
    },
    {
     "name": "stderr",
     "output_type": "stream",
     "text": [
      "148it [00:24,  7.90it/s]"
     ]
    },
    {
     "name": "stdout",
     "output_type": "stream",
     "text": [
      "[[18.9416]]\n",
      "[[8.95583]]\n"
     ]
    },
    {
     "name": "stderr",
     "output_type": "stream",
     "text": [
      "150it [00:24,  7.56it/s]"
     ]
    },
    {
     "name": "stdout",
     "output_type": "stream",
     "text": [
      "[[22.335814]]\n",
      "[[23.88398]]\n"
     ]
    },
    {
     "name": "stderr",
     "output_type": "stream",
     "text": [
      "152it [00:25,  7.59it/s]"
     ]
    },
    {
     "name": "stdout",
     "output_type": "stream",
     "text": [
      "[[20.644562]]\n",
      "[[10.630387]]\n"
     ]
    },
    {
     "name": "stderr",
     "output_type": "stream",
     "text": [
      "154it [00:25,  7.38it/s]"
     ]
    },
    {
     "name": "stdout",
     "output_type": "stream",
     "text": [
      "[[11.916075]]\n",
      "[[10.841748]]\n"
     ]
    },
    {
     "name": "stderr",
     "output_type": "stream",
     "text": [
      "156it [00:25,  7.24it/s]"
     ]
    },
    {
     "name": "stdout",
     "output_type": "stream",
     "text": [
      "[[20.67065]]\n",
      "[[22.12021]]\n"
     ]
    },
    {
     "name": "stderr",
     "output_type": "stream",
     "text": [
      "158it [00:25,  7.48it/s]"
     ]
    },
    {
     "name": "stdout",
     "output_type": "stream",
     "text": [
      "[[12.39886]]\n",
      "[[8.415856]]\n"
     ]
    },
    {
     "name": "stderr",
     "output_type": "stream",
     "text": [
      "160it [00:26,  7.31it/s]"
     ]
    },
    {
     "name": "stdout",
     "output_type": "stream",
     "text": [
      "[[25.944248]]\n",
      "[[23.417236]]\n"
     ]
    },
    {
     "name": "stderr",
     "output_type": "stream",
     "text": [
      "162it [00:26,  7.18it/s]"
     ]
    },
    {
     "name": "stdout",
     "output_type": "stream",
     "text": [
      "[[36.599804]]\n",
      "[[57.134205]]\n"
     ]
    },
    {
     "name": "stderr",
     "output_type": "stream",
     "text": [
      "164it [00:26,  7.35it/s]"
     ]
    },
    {
     "name": "stdout",
     "output_type": "stream",
     "text": [
      "[[21.596924]]\n",
      "[[56.13221]]\n"
     ]
    },
    {
     "name": "stderr",
     "output_type": "stream",
     "text": [
      "166it [00:27,  7.40it/s]"
     ]
    },
    {
     "name": "stdout",
     "output_type": "stream",
     "text": [
      "[[21.436893]]\n",
      "[[22.769997]]\n"
     ]
    },
    {
     "name": "stderr",
     "output_type": "stream",
     "text": [
      "168it [00:27,  7.35it/s]"
     ]
    },
    {
     "name": "stdout",
     "output_type": "stream",
     "text": [
      "[[18.986847]]\n",
      "[[25.815746]]\n"
     ]
    },
    {
     "name": "stderr",
     "output_type": "stream",
     "text": [
      "170it [00:27,  7.37it/s]"
     ]
    },
    {
     "name": "stdout",
     "output_type": "stream",
     "text": [
      "[[24.81845]]\n",
      "[[18.851532]]\n"
     ]
    },
    {
     "name": "stderr",
     "output_type": "stream",
     "text": [
      "172it [00:27,  7.45it/s]"
     ]
    },
    {
     "name": "stdout",
     "output_type": "stream",
     "text": [
      "[[24.10213]]\n",
      "[[18.627935]]\n"
     ]
    },
    {
     "name": "stderr",
     "output_type": "stream",
     "text": [
      "174it [00:28,  7.50it/s]"
     ]
    },
    {
     "name": "stdout",
     "output_type": "stream",
     "text": [
      "[[17.839321]]\n",
      "[[21.222904]]\n"
     ]
    },
    {
     "name": "stderr",
     "output_type": "stream",
     "text": [
      "176it [00:28,  7.36it/s]"
     ]
    },
    {
     "name": "stdout",
     "output_type": "stream",
     "text": [
      "[[47.623695]]\n",
      "[[41.427166]]\n"
     ]
    },
    {
     "name": "stderr",
     "output_type": "stream",
     "text": [
      "178it [00:28,  7.32it/s]"
     ]
    },
    {
     "name": "stdout",
     "output_type": "stream",
     "text": [
      "[[10.308911]]\n",
      "[[23.89241]]\n"
     ]
    },
    {
     "name": "stderr",
     "output_type": "stream",
     "text": [
      "180it [00:28,  7.25it/s]"
     ]
    },
    {
     "name": "stdout",
     "output_type": "stream",
     "text": [
      "[[12.22557]]\n",
      "[[22.250704]]\n"
     ]
    },
    {
     "name": "stderr",
     "output_type": "stream",
     "text": [
      "182it [00:29,  7.35it/s]"
     ]
    },
    {
     "name": "stdout",
     "output_type": "stream",
     "text": [
      "[[20.181007]]\n",
      "[[19.645607]]\n"
     ]
    },
    {
     "name": "stderr",
     "output_type": "stream",
     "text": [
      "184it [00:29,  7.36it/s]"
     ]
    },
    {
     "name": "stdout",
     "output_type": "stream",
     "text": [
      "[[17.08182]]\n",
      "[[17.31249]]\n"
     ]
    },
    {
     "name": "stderr",
     "output_type": "stream",
     "text": [
      "186it [00:29,  7.52it/s]"
     ]
    },
    {
     "name": "stdout",
     "output_type": "stream",
     "text": [
      "[[23.469141]]\n",
      "[[13.937631]]\n"
     ]
    },
    {
     "name": "stderr",
     "output_type": "stream",
     "text": [
      "188it [00:30,  7.61it/s]"
     ]
    },
    {
     "name": "stdout",
     "output_type": "stream",
     "text": [
      "[[17.170826]]\n",
      "[[22.972298]]\n"
     ]
    },
    {
     "name": "stderr",
     "output_type": "stream",
     "text": [
      "190it [00:30,  7.43it/s]"
     ]
    },
    {
     "name": "stdout",
     "output_type": "stream",
     "text": [
      "[[22.501818]]\n",
      "[[17.243013]]\n"
     ]
    },
    {
     "name": "stderr",
     "output_type": "stream",
     "text": [
      "192it [00:30,  7.55it/s]"
     ]
    },
    {
     "name": "stdout",
     "output_type": "stream",
     "text": [
      "[[10.547925]]\n",
      "[[12.017377]]\n"
     ]
    },
    {
     "name": "stderr",
     "output_type": "stream",
     "text": [
      "194it [00:30,  7.21it/s]"
     ]
    },
    {
     "name": "stdout",
     "output_type": "stream",
     "text": [
      "[[22.754116]]\n",
      "[[19.879143]]\n"
     ]
    },
    {
     "name": "stderr",
     "output_type": "stream",
     "text": [
      "196it [00:31,  7.36it/s]"
     ]
    },
    {
     "name": "stdout",
     "output_type": "stream",
     "text": [
      "[[21.621925]]\n",
      "[[20.94905]]\n"
     ]
    },
    {
     "name": "stderr",
     "output_type": "stream",
     "text": [
      "198it [00:31,  7.25it/s]"
     ]
    },
    {
     "name": "stdout",
     "output_type": "stream",
     "text": [
      "[[16.986221]]\n",
      "[[17.022457]]\n"
     ]
    },
    {
     "name": "stderr",
     "output_type": "stream",
     "text": [
      "200it [00:31,  7.20it/s]"
     ]
    },
    {
     "name": "stdout",
     "output_type": "stream",
     "text": [
      "[[10.974498]]\n",
      "[[21.716152]]\n"
     ]
    },
    {
     "name": "stderr",
     "output_type": "stream",
     "text": [
      "202it [00:31,  7.44it/s]"
     ]
    },
    {
     "name": "stdout",
     "output_type": "stream",
     "text": [
      "[[18.799572]]\n",
      "[[14.203203]]\n"
     ]
    },
    {
     "name": "stderr",
     "output_type": "stream",
     "text": [
      "204it [00:32,  7.55it/s]"
     ]
    },
    {
     "name": "stdout",
     "output_type": "stream",
     "text": [
      "[[14.191134]]\n",
      "[[16.909088]]\n"
     ]
    },
    {
     "name": "stderr",
     "output_type": "stream",
     "text": [
      "206it [00:32,  7.43it/s]"
     ]
    },
    {
     "name": "stdout",
     "output_type": "stream",
     "text": [
      "[[26.13347]]\n",
      "[[19.5036]]\n"
     ]
    },
    {
     "name": "stderr",
     "output_type": "stream",
     "text": [
      "208it [00:32,  7.64it/s]"
     ]
    },
    {
     "name": "stdout",
     "output_type": "stream",
     "text": [
      "[[37.58358]]\n",
      "[[20.229393]]\n"
     ]
    },
    {
     "name": "stderr",
     "output_type": "stream",
     "text": [
      "210it [00:32,  7.32it/s]"
     ]
    },
    {
     "name": "stdout",
     "output_type": "stream",
     "text": [
      "[[31.460262]]\n",
      "[[23.094189]]\n"
     ]
    },
    {
     "name": "stderr",
     "output_type": "stream",
     "text": [
      "212it [00:33,  7.39it/s]"
     ]
    },
    {
     "name": "stdout",
     "output_type": "stream",
     "text": [
      "[[20.19983]]\n",
      "[[23.861027]]\n"
     ]
    },
    {
     "name": "stderr",
     "output_type": "stream",
     "text": [
      "214it [00:33,  6.87it/s]"
     ]
    },
    {
     "name": "stdout",
     "output_type": "stream",
     "text": [
      "[[21.938324]]\n",
      "[[21.674206]]\n"
     ]
    },
    {
     "name": "stderr",
     "output_type": "stream",
     "text": [
      "216it [00:33,  7.12it/s]"
     ]
    },
    {
     "name": "stdout",
     "output_type": "stream",
     "text": [
      "[[18.376865]]\n",
      "[[49.945988]]\n"
     ]
    },
    {
     "name": "stderr",
     "output_type": "stream",
     "text": [
      "218it [00:34,  7.38it/s]"
     ]
    },
    {
     "name": "stdout",
     "output_type": "stream",
     "text": [
      "[[24.968245]]\n",
      "[[12.140794]]\n"
     ]
    },
    {
     "name": "stderr",
     "output_type": "stream",
     "text": [
      "220it [00:34,  7.32it/s]"
     ]
    },
    {
     "name": "stdout",
     "output_type": "stream",
     "text": [
      "[[26.51998]]\n",
      "[[13.184058]]\n"
     ]
    },
    {
     "name": "stderr",
     "output_type": "stream",
     "text": [
      "222it [00:34,  7.40it/s]"
     ]
    },
    {
     "name": "stdout",
     "output_type": "stream",
     "text": [
      "[[43.90835]]\n",
      "[[23.93385]]\n"
     ]
    },
    {
     "name": "stderr",
     "output_type": "stream",
     "text": [
      "224it [00:34,  7.32it/s]"
     ]
    },
    {
     "name": "stdout",
     "output_type": "stream",
     "text": [
      "[[19.861816]]\n",
      "[[13.708903]]\n"
     ]
    },
    {
     "name": "stderr",
     "output_type": "stream",
     "text": [
      "226it [00:35,  7.57it/s]"
     ]
    },
    {
     "name": "stdout",
     "output_type": "stream",
     "text": [
      "[[10.288947]]\n",
      "[[22.54153]]\n"
     ]
    },
    {
     "name": "stderr",
     "output_type": "stream",
     "text": [
      "228it [00:35,  7.49it/s]"
     ]
    },
    {
     "name": "stdout",
     "output_type": "stream",
     "text": [
      "[[31.387007]]\n",
      "[[21.422943]]\n"
     ]
    },
    {
     "name": "stderr",
     "output_type": "stream",
     "text": [
      "230it [00:35,  7.42it/s]"
     ]
    },
    {
     "name": "stdout",
     "output_type": "stream",
     "text": [
      "[[20.044695]]\n",
      "[[21.201845]]\n"
     ]
    },
    {
     "name": "stderr",
     "output_type": "stream",
     "text": [
      "232it [00:36,  7.29it/s]"
     ]
    },
    {
     "name": "stdout",
     "output_type": "stream",
     "text": [
      "[[20.168497]]\n",
      "[[20.87747]]\n"
     ]
    },
    {
     "name": "stderr",
     "output_type": "stream",
     "text": [
      "234it [00:36,  7.27it/s]"
     ]
    },
    {
     "name": "stdout",
     "output_type": "stream",
     "text": [
      "[[14.892482]]\n",
      "[[20.796036]]\n"
     ]
    },
    {
     "name": "stderr",
     "output_type": "stream",
     "text": [
      "236it [00:36,  7.44it/s]"
     ]
    },
    {
     "name": "stdout",
     "output_type": "stream",
     "text": [
      "[[21.976524]]\n",
      "[[32.809734]]\n"
     ]
    },
    {
     "name": "stderr",
     "output_type": "stream",
     "text": [
      "238it [00:36,  7.60it/s]"
     ]
    },
    {
     "name": "stdout",
     "output_type": "stream",
     "text": [
      "[[21.470407]]\n",
      "[[14.5435915]]\n"
     ]
    },
    {
     "name": "stderr",
     "output_type": "stream",
     "text": [
      "240it [00:37,  7.05it/s]"
     ]
    },
    {
     "name": "stdout",
     "output_type": "stream",
     "text": [
      "[[20.446804]]\n",
      "[[26.869133]]\n"
     ]
    },
    {
     "name": "stderr",
     "output_type": "stream",
     "text": [
      "242it [00:37,  7.21it/s]"
     ]
    },
    {
     "name": "stdout",
     "output_type": "stream",
     "text": [
      "[[21.521942]]\n",
      "[[42.5033]]\n"
     ]
    },
    {
     "name": "stderr",
     "output_type": "stream",
     "text": [
      "244it [00:37,  6.70it/s]"
     ]
    },
    {
     "name": "stdout",
     "output_type": "stream",
     "text": [
      "[[12.481829]]\n",
      "[[22.048882]]\n"
     ]
    },
    {
     "name": "stderr",
     "output_type": "stream",
     "text": [
      "246it [00:37,  7.18it/s]"
     ]
    },
    {
     "name": "stdout",
     "output_type": "stream",
     "text": [
      "[[27.798752]]\n",
      "[[12.862799]]\n"
     ]
    },
    {
     "name": "stderr",
     "output_type": "stream",
     "text": [
      "248it [00:38,  7.48it/s]"
     ]
    },
    {
     "name": "stdout",
     "output_type": "stream",
     "text": [
      "[[20.212234]]\n",
      "[[23.780193]]\n"
     ]
    },
    {
     "name": "stderr",
     "output_type": "stream",
     "text": [
      "249it [00:38,  7.36it/s]"
     ]
    },
    {
     "name": "stdout",
     "output_type": "stream",
     "text": [
      "[[22.752186]]\n"
     ]
    },
    {
     "name": "stderr",
     "output_type": "stream",
     "text": [
      "250it [00:38,  6.00it/s]"
     ]
    },
    {
     "name": "stdout",
     "output_type": "stream",
     "text": [
      "[[16.503542]]\n",
      "[[24.551336]]\n"
     ]
    },
    {
     "name": "stderr",
     "output_type": "stream",
     "text": [
      "253it [00:39,  5.73it/s]"
     ]
    },
    {
     "name": "stdout",
     "output_type": "stream",
     "text": [
      "[[40.438282]]\n",
      "[[20.443558]]\n"
     ]
    },
    {
     "name": "stderr",
     "output_type": "stream",
     "text": [
      "254it [00:39,  5.29it/s]"
     ]
    },
    {
     "name": "stdout",
     "output_type": "stream",
     "text": [
      "[[23.248617]]\n"
     ]
    },
    {
     "name": "stderr",
     "output_type": "stream",
     "text": [
      "256it [00:39,  4.71it/s]"
     ]
    },
    {
     "name": "stdout",
     "output_type": "stream",
     "text": [
      "[[13.475338]]\n",
      "[[76.18979]]\n"
     ]
    },
    {
     "name": "stderr",
     "output_type": "stream",
     "text": [
      "258it [00:40,  5.64it/s]"
     ]
    },
    {
     "name": "stdout",
     "output_type": "stream",
     "text": [
      "[[22.80487]]\n",
      "[[17.997349]]\n"
     ]
    },
    {
     "name": "stderr",
     "output_type": "stream",
     "text": [
      "260it [00:40,  6.53it/s]"
     ]
    },
    {
     "name": "stdout",
     "output_type": "stream",
     "text": [
      "[[20.359388]]\n",
      "[[12.636811]]\n"
     ]
    },
    {
     "name": "stderr",
     "output_type": "stream",
     "text": [
      "262it [00:40,  6.77it/s]"
     ]
    },
    {
     "name": "stdout",
     "output_type": "stream",
     "text": [
      "[[70.0273]]\n",
      "[[24.48477]]\n"
     ]
    },
    {
     "name": "stderr",
     "output_type": "stream",
     "text": [
      "264it [00:40,  6.83it/s]"
     ]
    },
    {
     "name": "stdout",
     "output_type": "stream",
     "text": [
      "[[17.369333]]\n",
      "[[20.842745]]\n"
     ]
    },
    {
     "name": "stderr",
     "output_type": "stream",
     "text": [
      "266it [00:41,  7.14it/s]"
     ]
    },
    {
     "name": "stdout",
     "output_type": "stream",
     "text": [
      "[[23.127409]]\n",
      "[[12.34434]]\n"
     ]
    },
    {
     "name": "stderr",
     "output_type": "stream",
     "text": [
      "267it [00:41,  7.25it/s]"
     ]
    },
    {
     "name": "stdout",
     "output_type": "stream",
     "text": [
      "[[10.8236885]]\n"
     ]
    },
    {
     "name": "stderr",
     "output_type": "stream",
     "text": [
      "268it [00:41,  6.16it/s]"
     ]
    },
    {
     "name": "stdout",
     "output_type": "stream",
     "text": [
      "[[21.415764]]\n",
      "[[20.20236]]\n"
     ]
    },
    {
     "name": "stderr",
     "output_type": "stream",
     "text": [
      "271it [00:42,  6.32it/s]"
     ]
    },
    {
     "name": "stdout",
     "output_type": "stream",
     "text": [
      "[[18.202654]]\n",
      "[[20.429064]]\n"
     ]
    },
    {
     "name": "stderr",
     "output_type": "stream",
     "text": [
      "273it [00:42,  6.94it/s]"
     ]
    },
    {
     "name": "stdout",
     "output_type": "stream",
     "text": [
      "[[17.366285]]\n",
      "[[21.723866]]\n"
     ]
    },
    {
     "name": "stderr",
     "output_type": "stream",
     "text": [
      "275it [00:42,  7.08it/s]"
     ]
    },
    {
     "name": "stdout",
     "output_type": "stream",
     "text": [
      "[[19.907228]]\n",
      "[[18.985975]]\n"
     ]
    },
    {
     "name": "stderr",
     "output_type": "stream",
     "text": [
      "277it [00:42,  7.22it/s]"
     ]
    },
    {
     "name": "stdout",
     "output_type": "stream",
     "text": [
      "[[37.778137]]\n",
      "[[19.496233]]\n"
     ]
    },
    {
     "name": "stderr",
     "output_type": "stream",
     "text": [
      "279it [00:43,  7.33it/s]"
     ]
    },
    {
     "name": "stdout",
     "output_type": "stream",
     "text": [
      "[[33.949745]]\n",
      "[[18.7384]]\n"
     ]
    },
    {
     "name": "stderr",
     "output_type": "stream",
     "text": [
      "281it [00:43,  6.55it/s]"
     ]
    },
    {
     "name": "stdout",
     "output_type": "stream",
     "text": [
      "[[15.884238]]\n",
      "[[39.270947]]\n"
     ]
    },
    {
     "name": "stderr",
     "output_type": "stream",
     "text": [
      "283it [00:43,  6.84it/s]"
     ]
    },
    {
     "name": "stdout",
     "output_type": "stream",
     "text": [
      "[[12.04537]]\n",
      "[[18.193619]]\n"
     ]
    },
    {
     "name": "stderr",
     "output_type": "stream",
     "text": [
      "285it [00:44,  7.26it/s]"
     ]
    },
    {
     "name": "stdout",
     "output_type": "stream",
     "text": [
      "[[26.440556]]\n",
      "[[13.219335]]\n"
     ]
    },
    {
     "name": "stderr",
     "output_type": "stream",
     "text": [
      "287it [00:44,  7.50it/s]"
     ]
    },
    {
     "name": "stdout",
     "output_type": "stream",
     "text": [
      "[[14.076575]]\n",
      "[[18.583645]]\n"
     ]
    },
    {
     "name": "stderr",
     "output_type": "stream",
     "text": [
      "289it [00:44,  7.49it/s]"
     ]
    },
    {
     "name": "stdout",
     "output_type": "stream",
     "text": [
      "[[59.50155]]\n",
      "[[12.420532]]\n"
     ]
    },
    {
     "name": "stderr",
     "output_type": "stream",
     "text": [
      "291it [00:44,  7.46it/s]"
     ]
    },
    {
     "name": "stdout",
     "output_type": "stream",
     "text": [
      "[[19.367859]]\n",
      "[[24.720858]]\n"
     ]
    },
    {
     "name": "stderr",
     "output_type": "stream",
     "text": [
      "293it [00:45,  7.26it/s]"
     ]
    },
    {
     "name": "stdout",
     "output_type": "stream",
     "text": [
      "[[20.75425]]\n",
      "[[22.893515]]\n"
     ]
    },
    {
     "name": "stderr",
     "output_type": "stream",
     "text": [
      "295it [00:45,  7.39it/s]"
     ]
    },
    {
     "name": "stdout",
     "output_type": "stream",
     "text": [
      "[[10.800165]]\n",
      "[[13.538997]]\n"
     ]
    },
    {
     "name": "stderr",
     "output_type": "stream",
     "text": [
      "297it [00:45,  7.47it/s]"
     ]
    },
    {
     "name": "stdout",
     "output_type": "stream",
     "text": [
      "[[14.037705]]\n",
      "[[12.366183]]\n"
     ]
    },
    {
     "name": "stderr",
     "output_type": "stream",
     "text": [
      "299it [00:45,  7.45it/s]"
     ]
    },
    {
     "name": "stdout",
     "output_type": "stream",
     "text": [
      "[[22.967663]]\n",
      "[[23.129711]]\n"
     ]
    },
    {
     "name": "stderr",
     "output_type": "stream",
     "text": [
      "301it [00:46,  7.37it/s]"
     ]
    },
    {
     "name": "stdout",
     "output_type": "stream",
     "text": [
      "[[14.596548]]\n",
      "[[19.203268]]\n"
     ]
    },
    {
     "name": "stderr",
     "output_type": "stream",
     "text": [
      "303it [00:46,  7.09it/s]"
     ]
    },
    {
     "name": "stdout",
     "output_type": "stream",
     "text": [
      "[[21.751371]]\n",
      "[[24.142706]]\n"
     ]
    },
    {
     "name": "stderr",
     "output_type": "stream",
     "text": [
      "305it [00:46,  7.22it/s]"
     ]
    },
    {
     "name": "stdout",
     "output_type": "stream",
     "text": [
      "[[28.889788]]\n",
      "[[43.86237]]\n"
     ]
    },
    {
     "name": "stderr",
     "output_type": "stream",
     "text": [
      "307it [00:47,  7.30it/s]"
     ]
    },
    {
     "name": "stdout",
     "output_type": "stream",
     "text": [
      "[[11.939704]]\n",
      "[[51.874622]]\n"
     ]
    },
    {
     "name": "stderr",
     "output_type": "stream",
     "text": [
      "309it [00:47,  7.25it/s]"
     ]
    },
    {
     "name": "stdout",
     "output_type": "stream",
     "text": [
      "[[18.653627]]\n",
      "[[21.335926]]\n"
     ]
    },
    {
     "name": "stderr",
     "output_type": "stream",
     "text": [
      "311it [00:47,  7.09it/s]"
     ]
    },
    {
     "name": "stdout",
     "output_type": "stream",
     "text": [
      "[[20.748192]]\n",
      "[[17.734215]]\n"
     ]
    },
    {
     "name": "stderr",
     "output_type": "stream",
     "text": [
      "313it [00:47,  7.33it/s]"
     ]
    },
    {
     "name": "stdout",
     "output_type": "stream",
     "text": [
      "[[19.539883]]\n",
      "[[19.986404]]\n"
     ]
    },
    {
     "name": "stderr",
     "output_type": "stream",
     "text": [
      "315it [00:48,  7.44it/s]"
     ]
    },
    {
     "name": "stdout",
     "output_type": "stream",
     "text": [
      "[[15.240224]]\n",
      "[[19.20713]]\n"
     ]
    },
    {
     "name": "stderr",
     "output_type": "stream",
     "text": [
      "317it [00:48,  7.04it/s]"
     ]
    },
    {
     "name": "stdout",
     "output_type": "stream",
     "text": [
      "[[25.203762]]\n",
      "[[17.28341]]\n"
     ]
    },
    {
     "name": "stderr",
     "output_type": "stream",
     "text": [
      "319it [00:48,  7.46it/s]"
     ]
    },
    {
     "name": "stdout",
     "output_type": "stream",
     "text": [
      "[[14.207024]]\n",
      "[[39.650257]]\n"
     ]
    },
    {
     "name": "stderr",
     "output_type": "stream",
     "text": [
      "321it [00:48,  7.59it/s]"
     ]
    },
    {
     "name": "stdout",
     "output_type": "stream",
     "text": [
      "[[24.042992]]\n",
      "[[21.23246]]\n"
     ]
    },
    {
     "name": "stderr",
     "output_type": "stream",
     "text": [
      "323it [00:49,  7.72it/s]"
     ]
    },
    {
     "name": "stdout",
     "output_type": "stream",
     "text": [
      "[[60.95548]]\n",
      "[[22.680904]]\n"
     ]
    },
    {
     "name": "stderr",
     "output_type": "stream",
     "text": [
      "325it [00:49,  7.51it/s]"
     ]
    },
    {
     "name": "stdout",
     "output_type": "stream",
     "text": [
      "[[16.42021]]\n",
      "[[19.002018]]\n"
     ]
    },
    {
     "name": "stderr",
     "output_type": "stream",
     "text": [
      "327it [00:49,  7.56it/s]"
     ]
    },
    {
     "name": "stdout",
     "output_type": "stream",
     "text": [
      "[[20.025948]]\n",
      "[[22.021393]]\n"
     ]
    },
    {
     "name": "stderr",
     "output_type": "stream",
     "text": [
      "329it [00:50,  7.13it/s]"
     ]
    },
    {
     "name": "stdout",
     "output_type": "stream",
     "text": [
      "[[10.848005]]\n",
      "[[12.257388]]\n"
     ]
    },
    {
     "name": "stderr",
     "output_type": "stream",
     "text": [
      "331it [00:50,  6.94it/s]"
     ]
    },
    {
     "name": "stdout",
     "output_type": "stream",
     "text": [
      "[[18.02438]]\n",
      "[[19.037193]]\n"
     ]
    },
    {
     "name": "stderr",
     "output_type": "stream",
     "text": [
      "333it [00:50,  7.14it/s]"
     ]
    },
    {
     "name": "stdout",
     "output_type": "stream",
     "text": [
      "[[21.400469]]\n",
      "[[11.682105]]\n"
     ]
    },
    {
     "name": "stderr",
     "output_type": "stream",
     "text": [
      "335it [00:50,  7.65it/s]"
     ]
    },
    {
     "name": "stdout",
     "output_type": "stream",
     "text": [
      "[[21.86439]]\n",
      "[[23.281841]]\n"
     ]
    },
    {
     "name": "stderr",
     "output_type": "stream",
     "text": [
      "337it [00:51,  6.70it/s]"
     ]
    },
    {
     "name": "stdout",
     "output_type": "stream",
     "text": [
      "[[21.493706]]\n",
      "[[16.85973]]\n"
     ]
    },
    {
     "name": "stderr",
     "output_type": "stream",
     "text": [
      "339it [00:51,  7.26it/s]"
     ]
    },
    {
     "name": "stdout",
     "output_type": "stream",
     "text": [
      "[[11.21975]]\n",
      "[[18.51161]]\n"
     ]
    },
    {
     "name": "stderr",
     "output_type": "stream",
     "text": [
      "341it [00:51,  7.21it/s]"
     ]
    },
    {
     "name": "stdout",
     "output_type": "stream",
     "text": [
      "[[45.87322]]\n",
      "[[12.84862]]\n"
     ]
    },
    {
     "name": "stderr",
     "output_type": "stream",
     "text": [
      "343it [00:52,  7.51it/s]"
     ]
    },
    {
     "name": "stdout",
     "output_type": "stream",
     "text": [
      "[[25.18531]]\n",
      "[[22.14769]]\n"
     ]
    },
    {
     "name": "stderr",
     "output_type": "stream",
     "text": [
      "345it [00:52,  7.38it/s]"
     ]
    },
    {
     "name": "stdout",
     "output_type": "stream",
     "text": [
      "[[27.477406]]\n",
      "[[64.85351]]\n"
     ]
    },
    {
     "name": "stderr",
     "output_type": "stream",
     "text": [
      "347it [00:52,  7.56it/s]"
     ]
    },
    {
     "name": "stdout",
     "output_type": "stream",
     "text": [
      "[[15.803224]]\n",
      "[[24.823887]]\n"
     ]
    },
    {
     "name": "stderr",
     "output_type": "stream",
     "text": [
      "349it [00:52,  7.49it/s]"
     ]
    },
    {
     "name": "stdout",
     "output_type": "stream",
     "text": [
      "[[21.018782]]\n",
      "[[11.4172125]]\n"
     ]
    },
    {
     "name": "stderr",
     "output_type": "stream",
     "text": [
      "350it [00:52,  7.27it/s]"
     ]
    },
    {
     "name": "stdout",
     "output_type": "stream",
     "text": [
      "[[15.931064]]\n"
     ]
    },
    {
     "name": "stderr",
     "output_type": "stream",
     "text": [
      "352it [00:53,  6.61it/s]"
     ]
    },
    {
     "name": "stdout",
     "output_type": "stream",
     "text": [
      "[[13.775117]]\n",
      "[[31.545351]]\n"
     ]
    },
    {
     "name": "stderr",
     "output_type": "stream",
     "text": [
      "354it [00:53,  7.00it/s]"
     ]
    },
    {
     "name": "stdout",
     "output_type": "stream",
     "text": [
      "[[26.322872]]\n",
      "[[19.498648]]\n"
     ]
    },
    {
     "name": "stderr",
     "output_type": "stream",
     "text": [
      "356it [00:53,  7.31it/s]"
     ]
    },
    {
     "name": "stdout",
     "output_type": "stream",
     "text": [
      "[[15.387281]]\n",
      "[[13.191625]]\n"
     ]
    },
    {
     "name": "stderr",
     "output_type": "stream",
     "text": [
      "358it [00:54,  7.44it/s]"
     ]
    },
    {
     "name": "stdout",
     "output_type": "stream",
     "text": [
      "[[20.167408]]\n",
      "[[62.642677]]\n"
     ]
    },
    {
     "name": "stderr",
     "output_type": "stream",
     "text": [
      "360it [00:54,  7.60it/s]"
     ]
    },
    {
     "name": "stdout",
     "output_type": "stream",
     "text": [
      "[[19.672436]]\n",
      "[[18.877628]]\n"
     ]
    },
    {
     "name": "stderr",
     "output_type": "stream",
     "text": [
      "362it [00:54,  7.52it/s]"
     ]
    },
    {
     "name": "stdout",
     "output_type": "stream",
     "text": [
      "[[22.823158]]\n",
      "[[17.689917]]\n"
     ]
    },
    {
     "name": "stderr",
     "output_type": "stream",
     "text": [
      "364it [00:54,  7.46it/s]"
     ]
    },
    {
     "name": "stdout",
     "output_type": "stream",
     "text": [
      "[[19.291485]]\n",
      "[[14.445321]]\n"
     ]
    },
    {
     "name": "stderr",
     "output_type": "stream",
     "text": [
      "366it [00:55,  7.65it/s]"
     ]
    },
    {
     "name": "stdout",
     "output_type": "stream",
     "text": [
      "[[57.584415]]\n",
      "[[16.757229]]\n"
     ]
    },
    {
     "name": "stderr",
     "output_type": "stream",
     "text": [
      "368it [00:55,  7.51it/s]"
     ]
    },
    {
     "name": "stdout",
     "output_type": "stream",
     "text": [
      "[[11.666402]]\n",
      "[[27.383104]]\n"
     ]
    },
    {
     "name": "stderr",
     "output_type": "stream",
     "text": [
      "370it [00:55,  6.70it/s]"
     ]
    },
    {
     "name": "stdout",
     "output_type": "stream",
     "text": [
      "[[23.991756]]\n",
      "[[15.180791]]\n"
     ]
    },
    {
     "name": "stderr",
     "output_type": "stream",
     "text": [
      "372it [00:55,  7.15it/s]"
     ]
    },
    {
     "name": "stdout",
     "output_type": "stream",
     "text": [
      "[[38.090923]]\n",
      "[[18.435041]]\n"
     ]
    },
    {
     "name": "stderr",
     "output_type": "stream",
     "text": [
      "374it [00:56,  7.55it/s]"
     ]
    },
    {
     "name": "stdout",
     "output_type": "stream",
     "text": [
      "[[29.357485]]\n",
      "[[11.466945]]\n"
     ]
    },
    {
     "name": "stderr",
     "output_type": "stream",
     "text": [
      "376it [00:56,  7.59it/s]"
     ]
    },
    {
     "name": "stdout",
     "output_type": "stream",
     "text": [
      "[[22.301601]]\n",
      "[[23.943188]]\n"
     ]
    },
    {
     "name": "stderr",
     "output_type": "stream",
     "text": [
      "378it [00:56,  7.37it/s]"
     ]
    },
    {
     "name": "stdout",
     "output_type": "stream",
     "text": [
      "[[22.320583]]\n",
      "[[25.078396]]\n"
     ]
    },
    {
     "name": "stderr",
     "output_type": "stream",
     "text": [
      "380it [00:57,  7.52it/s]"
     ]
    },
    {
     "name": "stdout",
     "output_type": "stream",
     "text": [
      "[[11.413341]]\n",
      "[[17.729706]]\n"
     ]
    },
    {
     "name": "stderr",
     "output_type": "stream",
     "text": [
      "382it [00:57,  7.37it/s]"
     ]
    },
    {
     "name": "stdout",
     "output_type": "stream",
     "text": [
      "[[14.532447]]\n",
      "[[38.464848]]\n"
     ]
    },
    {
     "name": "stderr",
     "output_type": "stream",
     "text": [
      "384it [00:57,  7.70it/s]"
     ]
    },
    {
     "name": "stdout",
     "output_type": "stream",
     "text": [
      "[[11.82558]]\n",
      "[[22.502626]]\n"
     ]
    },
    {
     "name": "stderr",
     "output_type": "stream",
     "text": [
      "386it [00:57,  7.46it/s]"
     ]
    },
    {
     "name": "stdout",
     "output_type": "stream",
     "text": [
      "[[26.98136]]\n",
      "[[19.686085]]\n"
     ]
    },
    {
     "name": "stderr",
     "output_type": "stream",
     "text": [
      "388it [00:58,  7.57it/s]"
     ]
    },
    {
     "name": "stdout",
     "output_type": "stream",
     "text": [
      "[[19.91528]]\n",
      "[[20.331116]]\n"
     ]
    },
    {
     "name": "stderr",
     "output_type": "stream",
     "text": [
      "390it [00:58,  7.36it/s]"
     ]
    },
    {
     "name": "stdout",
     "output_type": "stream",
     "text": [
      "[[10.817328]]\n",
      "[[21.683302]]\n"
     ]
    },
    {
     "name": "stderr",
     "output_type": "stream",
     "text": [
      "392it [00:58,  7.41it/s]"
     ]
    },
    {
     "name": "stdout",
     "output_type": "stream",
     "text": [
      "[[14.442126]]\n",
      "[[19.954868]]\n"
     ]
    },
    {
     "name": "stderr",
     "output_type": "stream",
     "text": [
      "394it [00:58,  7.42it/s]"
     ]
    },
    {
     "name": "stdout",
     "output_type": "stream",
     "text": [
      "[[23.109215]]\n",
      "[[10.961978]]\n"
     ]
    },
    {
     "name": "stderr",
     "output_type": "stream",
     "text": [
      "396it [00:59,  7.58it/s]"
     ]
    },
    {
     "name": "stdout",
     "output_type": "stream",
     "text": [
      "[[44.70601]]\n",
      "[[11.92725]]\n"
     ]
    },
    {
     "name": "stderr",
     "output_type": "stream",
     "text": [
      "398it [00:59,  7.36it/s]"
     ]
    },
    {
     "name": "stdout",
     "output_type": "stream",
     "text": [
      "[[19.232403]]\n",
      "[[16.948479]]\n"
     ]
    },
    {
     "name": "stderr",
     "output_type": "stream",
     "text": [
      "400it [00:59,  7.26it/s]"
     ]
    },
    {
     "name": "stdout",
     "output_type": "stream",
     "text": [
      "[[19.389486]]\n",
      "[[21.629227]]\n"
     ]
    },
    {
     "name": "stderr",
     "output_type": "stream",
     "text": [
      "402it [01:00,  6.69it/s]"
     ]
    },
    {
     "name": "stdout",
     "output_type": "stream",
     "text": [
      "[[19.439844]]\n",
      "[[14.795859]]\n"
     ]
    },
    {
     "name": "stderr",
     "output_type": "stream",
     "text": [
      "404it [01:00,  6.98it/s]"
     ]
    },
    {
     "name": "stdout",
     "output_type": "stream",
     "text": [
      "[[13.37886]]\n",
      "[[25.009407]]\n"
     ]
    },
    {
     "name": "stderr",
     "output_type": "stream",
     "text": [
      "406it [01:00,  7.23it/s]"
     ]
    },
    {
     "name": "stdout",
     "output_type": "stream",
     "text": [
      "[[20.197563]]\n",
      "[[18.592873]]\n"
     ]
    },
    {
     "name": "stderr",
     "output_type": "stream",
     "text": [
      "408it [01:00,  7.35it/s]"
     ]
    },
    {
     "name": "stdout",
     "output_type": "stream",
     "text": [
      "[[22.007988]]\n",
      "[[15.870763]]\n"
     ]
    },
    {
     "name": "stderr",
     "output_type": "stream",
     "text": [
      "409it [01:01,  7.00it/s]"
     ]
    },
    {
     "name": "stdout",
     "output_type": "stream",
     "text": [
      "[[28.41325]]\n",
      "[[44.454594]]\n"
     ]
    },
    {
     "name": "stderr",
     "output_type": "stream",
     "text": [
      "412it [01:01,  6.53it/s]"
     ]
    },
    {
     "name": "stdout",
     "output_type": "stream",
     "text": [
      "[[22.771942]]\n",
      "[[17.306173]]\n"
     ]
    },
    {
     "name": "stderr",
     "output_type": "stream",
     "text": [
      "414it [01:01,  6.79it/s]"
     ]
    },
    {
     "name": "stdout",
     "output_type": "stream",
     "text": [
      "[[22.756208]]\n",
      "[[18.41117]]\n"
     ]
    },
    {
     "name": "stderr",
     "output_type": "stream",
     "text": [
      "416it [01:02,  6.92it/s]"
     ]
    },
    {
     "name": "stdout",
     "output_type": "stream",
     "text": [
      "[[15.817361]]\n",
      "[[8.632679]]\n"
     ]
    },
    {
     "name": "stderr",
     "output_type": "stream",
     "text": [
      "418it [01:02,  7.16it/s]"
     ]
    },
    {
     "name": "stdout",
     "output_type": "stream",
     "text": [
      "[[22.403542]]\n",
      "[[40.221638]]\n"
     ]
    },
    {
     "name": "stderr",
     "output_type": "stream",
     "text": [
      "420it [01:02,  7.57it/s]"
     ]
    },
    {
     "name": "stdout",
     "output_type": "stream",
     "text": [
      "[[21.012623]]\n",
      "[[63.43359]]\n"
     ]
    },
    {
     "name": "stderr",
     "output_type": "stream",
     "text": [
      "422it [01:02,  8.01it/s]"
     ]
    },
    {
     "name": "stdout",
     "output_type": "stream",
     "text": [
      "[[9.59559]]\n",
      "[[26.793]]\n"
     ]
    },
    {
     "name": "stderr",
     "output_type": "stream",
     "text": [
      "424it [01:03,  7.94it/s]"
     ]
    },
    {
     "name": "stdout",
     "output_type": "stream",
     "text": [
      "[[17.001987]]\n",
      "[[22.157036]]\n"
     ]
    },
    {
     "name": "stderr",
     "output_type": "stream",
     "text": [
      "426it [01:03,  7.68it/s]"
     ]
    },
    {
     "name": "stdout",
     "output_type": "stream",
     "text": [
      "[[19.6789]]\n",
      "[[21.573479]]\n"
     ]
    },
    {
     "name": "stderr",
     "output_type": "stream",
     "text": [
      "428it [01:03,  6.58it/s]"
     ]
    },
    {
     "name": "stdout",
     "output_type": "stream",
     "text": [
      "[[17.309164]]\n",
      "[[16.162817]]\n"
     ]
    },
    {
     "name": "stderr",
     "output_type": "stream",
     "text": [
      "430it [01:04,  6.92it/s]"
     ]
    },
    {
     "name": "stdout",
     "output_type": "stream",
     "text": [
      "[[31.564743]]\n",
      "[[19.023273]]\n"
     ]
    },
    {
     "name": "stderr",
     "output_type": "stream",
     "text": [
      "432it [01:04,  7.22it/s]"
     ]
    },
    {
     "name": "stdout",
     "output_type": "stream",
     "text": [
      "[[13.485541]]\n",
      "[[25.905327]]\n"
     ]
    },
    {
     "name": "stderr",
     "output_type": "stream",
     "text": [
      "434it [01:04,  7.06it/s]"
     ]
    },
    {
     "name": "stdout",
     "output_type": "stream",
     "text": [
      "[[24.745281]]\n",
      "[[11.96117]]\n"
     ]
    },
    {
     "name": "stderr",
     "output_type": "stream",
     "text": [
      "436it [01:04,  7.19it/s]"
     ]
    },
    {
     "name": "stdout",
     "output_type": "stream",
     "text": [
      "[[20.676914]]\n",
      "[[12.342503]]\n"
     ]
    },
    {
     "name": "stderr",
     "output_type": "stream",
     "text": [
      "437it [01:05,  6.91it/s]"
     ]
    },
    {
     "name": "stdout",
     "output_type": "stream",
     "text": [
      "[[13.747252]]\n"
     ]
    },
    {
     "name": "stderr",
     "output_type": "stream",
     "text": [
      "438it [01:05,  5.89it/s]"
     ]
    },
    {
     "name": "stdout",
     "output_type": "stream",
     "text": [
      "[[20.661737]]\n",
      "[[19.502625]]\n"
     ]
    },
    {
     "name": "stderr",
     "output_type": "stream",
     "text": [
      "441it [01:05,  5.81it/s]"
     ]
    },
    {
     "name": "stdout",
     "output_type": "stream",
     "text": [
      "[[20.987633]]\n",
      "[[21.609844]]\n"
     ]
    },
    {
     "name": "stderr",
     "output_type": "stream",
     "text": [
      "443it [01:06,  6.18it/s]"
     ]
    },
    {
     "name": "stdout",
     "output_type": "stream",
     "text": [
      "[[13.4201975]]\n",
      "[[22.550653]]\n"
     ]
    },
    {
     "name": "stderr",
     "output_type": "stream",
     "text": [
      "445it [01:06,  6.56it/s]"
     ]
    },
    {
     "name": "stdout",
     "output_type": "stream",
     "text": [
      "[[20.034393]]\n",
      "[[20.140385]]\n"
     ]
    },
    {
     "name": "stderr",
     "output_type": "stream",
     "text": [
      "447it [01:06,  6.70it/s]"
     ]
    },
    {
     "name": "stdout",
     "output_type": "stream",
     "text": [
      "[[56.472424]]\n",
      "[[19.61036]]\n"
     ]
    },
    {
     "name": "stderr",
     "output_type": "stream",
     "text": [
      "449it [01:06,  7.18it/s]"
     ]
    },
    {
     "name": "stdout",
     "output_type": "stream",
     "text": [
      "[[20.591362]]\n",
      "[[54.856937]]\n"
     ]
    },
    {
     "name": "stderr",
     "output_type": "stream",
     "text": [
      "451it [01:07,  7.54it/s]"
     ]
    },
    {
     "name": "stdout",
     "output_type": "stream",
     "text": [
      "[[23.423994]]\n",
      "[[18.68121]]\n"
     ]
    },
    {
     "name": "stderr",
     "output_type": "stream",
     "text": [
      "453it [01:07,  7.74it/s]"
     ]
    },
    {
     "name": "stdout",
     "output_type": "stream",
     "text": [
      "[[19.154957]]\n",
      "[[18.801174]]\n"
     ]
    },
    {
     "name": "stderr",
     "output_type": "stream",
     "text": [
      "455it [01:07,  7.65it/s]"
     ]
    },
    {
     "name": "stdout",
     "output_type": "stream",
     "text": [
      "[[18.661896]]\n",
      "[[20.921074]]\n"
     ]
    },
    {
     "name": "stderr",
     "output_type": "stream",
     "text": [
      "456it [01:07,  7.81it/s]"
     ]
    },
    {
     "name": "stdout",
     "output_type": "stream",
     "text": [
      "[[18.41706]]\n"
     ]
    },
    {
     "name": "stderr",
     "output_type": "stream",
     "text": [
      "458it [01:08,  6.94it/s]"
     ]
    },
    {
     "name": "stdout",
     "output_type": "stream",
     "text": [
      "[[19.494759]]\n",
      "[[21.75217]]\n"
     ]
    },
    {
     "name": "stderr",
     "output_type": "stream",
     "text": [
      "460it [01:08,  7.28it/s]"
     ]
    },
    {
     "name": "stdout",
     "output_type": "stream",
     "text": [
      "[[42.836475]]\n",
      "[[10.92459]]\n"
     ]
    },
    {
     "name": "stderr",
     "output_type": "stream",
     "text": [
      "462it [01:08,  7.57it/s]"
     ]
    },
    {
     "name": "stdout",
     "output_type": "stream",
     "text": [
      "[[12.577806]]\n",
      "[[27.769674]]\n"
     ]
    },
    {
     "name": "stderr",
     "output_type": "stream",
     "text": [
      "464it [01:08,  7.48it/s]"
     ]
    },
    {
     "name": "stdout",
     "output_type": "stream",
     "text": [
      "[[20.88946]]\n",
      "[[16.8436]]\n"
     ]
    },
    {
     "name": "stderr",
     "output_type": "stream",
     "text": [
      "466it [01:09,  7.23it/s]"
     ]
    },
    {
     "name": "stdout",
     "output_type": "stream",
     "text": [
      "[[24.719013]]\n",
      "[[18.178566]]\n"
     ]
    },
    {
     "name": "stderr",
     "output_type": "stream",
     "text": [
      "468it [01:09,  7.20it/s]"
     ]
    },
    {
     "name": "stdout",
     "output_type": "stream",
     "text": [
      "[[12.034638]]\n",
      "[[16.11441]]\n"
     ]
    },
    {
     "name": "stderr",
     "output_type": "stream",
     "text": [
      "470it [01:09,  7.37it/s]"
     ]
    },
    {
     "name": "stdout",
     "output_type": "stream",
     "text": [
      "[[21.993925]]\n",
      "[[35.207012]]\n"
     ]
    },
    {
     "name": "stderr",
     "output_type": "stream",
     "text": [
      "472it [01:10,  7.26it/s]"
     ]
    },
    {
     "name": "stdout",
     "output_type": "stream",
     "text": [
      "[[21.96772]]\n",
      "[[25.176289]]\n"
     ]
    },
    {
     "name": "stderr",
     "output_type": "stream",
     "text": [
      "474it [01:10,  7.50it/s]"
     ]
    },
    {
     "name": "stdout",
     "output_type": "stream",
     "text": [
      "[[10.724837]]\n",
      "[[43.69532]]\n"
     ]
    },
    {
     "name": "stderr",
     "output_type": "stream",
     "text": [
      "476it [01:10,  7.75it/s]"
     ]
    },
    {
     "name": "stdout",
     "output_type": "stream",
     "text": [
      "[[20.773207]]\n",
      "[[10.597362]]\n"
     ]
    },
    {
     "name": "stderr",
     "output_type": "stream",
     "text": [
      "478it [01:10,  7.68it/s]"
     ]
    },
    {
     "name": "stdout",
     "output_type": "stream",
     "text": [
      "[[60.573566]]\n",
      "[[14.272674]]\n"
     ]
    },
    {
     "name": "stderr",
     "output_type": "stream",
     "text": [
      "480it [01:11,  7.96it/s]"
     ]
    },
    {
     "name": "stdout",
     "output_type": "stream",
     "text": [
      "[[34.379627]]\n",
      "[[18.870962]]\n"
     ]
    },
    {
     "name": "stderr",
     "output_type": "stream",
     "text": [
      "482it [01:11,  7.81it/s]"
     ]
    },
    {
     "name": "stdout",
     "output_type": "stream",
     "text": [
      "[[17.674484]]\n",
      "[[18.093891]]\n"
     ]
    },
    {
     "name": "stderr",
     "output_type": "stream",
     "text": [
      "484it [01:11,  7.60it/s]"
     ]
    },
    {
     "name": "stdout",
     "output_type": "stream",
     "text": [
      "[[24.020283]]\n",
      "[[21.159307]]\n"
     ]
    },
    {
     "name": "stderr",
     "output_type": "stream",
     "text": [
      "486it [01:11,  7.52it/s]"
     ]
    },
    {
     "name": "stdout",
     "output_type": "stream",
     "text": [
      "[[42.643078]]\n",
      "[[24.501495]]\n"
     ]
    },
    {
     "name": "stderr",
     "output_type": "stream",
     "text": [
      "488it [01:12,  7.70it/s]"
     ]
    },
    {
     "name": "stdout",
     "output_type": "stream",
     "text": [
      "[[64.14007]]\n",
      "[[21.665026]]\n"
     ]
    },
    {
     "name": "stderr",
     "output_type": "stream",
     "text": [
      "490it [01:12,  7.57it/s]"
     ]
    },
    {
     "name": "stdout",
     "output_type": "stream",
     "text": [
      "[[12.058721]]\n",
      "[[23.793331]]\n"
     ]
    },
    {
     "name": "stderr",
     "output_type": "stream",
     "text": [
      "492it [01:12,  7.01it/s]"
     ]
    },
    {
     "name": "stdout",
     "output_type": "stream",
     "text": [
      "[[49.397327]]\n",
      "[[22.602463]]\n"
     ]
    },
    {
     "name": "stderr",
     "output_type": "stream",
     "text": [
      "494it [01:12,  7.52it/s]"
     ]
    },
    {
     "name": "stdout",
     "output_type": "stream",
     "text": [
      "[[22.545282]]\n",
      "[[18.671703]]\n"
     ]
    },
    {
     "name": "stderr",
     "output_type": "stream",
     "text": [
      "496it [01:13,  7.76it/s]"
     ]
    },
    {
     "name": "stdout",
     "output_type": "stream",
     "text": [
      "[[22.583485]]\n",
      "[[22.053898]]\n"
     ]
    },
    {
     "name": "stderr",
     "output_type": "stream",
     "text": [
      "498it [01:13,  7.26it/s]"
     ]
    },
    {
     "name": "stdout",
     "output_type": "stream",
     "text": [
      "[[15.299582]]\n",
      "[[13.839329]]\n"
     ]
    },
    {
     "name": "stderr",
     "output_type": "stream",
     "text": [
      "500it [01:13,  7.27it/s]"
     ]
    },
    {
     "name": "stdout",
     "output_type": "stream",
     "text": [
      "[[35.382526]]\n",
      "[[16.757765]]\n"
     ]
    },
    {
     "name": "stderr",
     "output_type": "stream",
     "text": [
      "502it [01:13,  7.46it/s]"
     ]
    },
    {
     "name": "stdout",
     "output_type": "stream",
     "text": [
      "[[21.863262]]\n",
      "[[19.58646]]\n"
     ]
    },
    {
     "name": "stderr",
     "output_type": "stream",
     "text": [
      "504it [01:14,  7.03it/s]"
     ]
    },
    {
     "name": "stdout",
     "output_type": "stream",
     "text": [
      "[[20.384514]]\n",
      "[[18.863602]]\n"
     ]
    },
    {
     "name": "stderr",
     "output_type": "stream",
     "text": [
      "506it [01:14,  7.32it/s]"
     ]
    },
    {
     "name": "stdout",
     "output_type": "stream",
     "text": [
      "[[25.964653]]\n",
      "[[28.724989]]\n"
     ]
    },
    {
     "name": "stderr",
     "output_type": "stream",
     "text": [
      "508it [01:14,  7.53it/s]"
     ]
    },
    {
     "name": "stdout",
     "output_type": "stream",
     "text": [
      "[[21.731503]]\n",
      "[[41.8979]]\n"
     ]
    },
    {
     "name": "stderr",
     "output_type": "stream",
     "text": [
      "510it [01:15,  7.73it/s]"
     ]
    },
    {
     "name": "stdout",
     "output_type": "stream",
     "text": [
      "[[17.771088]]\n",
      "[[18.89033]]\n"
     ]
    },
    {
     "name": "stderr",
     "output_type": "stream",
     "text": [
      "512it [01:15,  7.71it/s]"
     ]
    },
    {
     "name": "stdout",
     "output_type": "stream",
     "text": [
      "[[16.08618]]\n",
      "[[12.256144]]\n"
     ]
    },
    {
     "name": "stderr",
     "output_type": "stream",
     "text": [
      "514it [01:15,  7.46it/s]"
     ]
    },
    {
     "name": "stdout",
     "output_type": "stream",
     "text": [
      "[[15.460153]]\n",
      "[[46.561504]]\n"
     ]
    },
    {
     "name": "stderr",
     "output_type": "stream",
     "text": [
      "516it [01:15,  7.29it/s]"
     ]
    },
    {
     "name": "stdout",
     "output_type": "stream",
     "text": [
      "[[11.147497]]\n",
      "[[25.580498]]\n"
     ]
    },
    {
     "name": "stderr",
     "output_type": "stream",
     "text": [
      "518it [01:16,  7.03it/s]"
     ]
    },
    {
     "name": "stdout",
     "output_type": "stream",
     "text": [
      "[[24.90944]]\n",
      "[[11.962273]]\n"
     ]
    },
    {
     "name": "stderr",
     "output_type": "stream",
     "text": [
      "520it [01:16,  6.98it/s]"
     ]
    },
    {
     "name": "stdout",
     "output_type": "stream",
     "text": [
      "[[11.473517]]\n",
      "[[18.877068]]\n"
     ]
    },
    {
     "name": "stderr",
     "output_type": "stream",
     "text": [
      "522it [01:16,  7.20it/s]"
     ]
    },
    {
     "name": "stdout",
     "output_type": "stream",
     "text": [
      "[[21.754417]]\n",
      "[[9.455014]]\n"
     ]
    },
    {
     "name": "stderr",
     "output_type": "stream",
     "text": [
      "524it [01:17,  6.75it/s]"
     ]
    },
    {
     "name": "stdout",
     "output_type": "stream",
     "text": [
      "[[12.016425]]\n",
      "[[23.997635]]\n"
     ]
    },
    {
     "name": "stderr",
     "output_type": "stream",
     "text": [
      "526it [01:17,  6.86it/s]"
     ]
    },
    {
     "name": "stdout",
     "output_type": "stream",
     "text": [
      "[[16.889942]]\n",
      "[[64.96697]]\n"
     ]
    },
    {
     "name": "stderr",
     "output_type": "stream",
     "text": [
      "528it [01:17,  6.83it/s]"
     ]
    },
    {
     "name": "stdout",
     "output_type": "stream",
     "text": [
      "[[18.686094]]\n",
      "[[22.950687]]\n"
     ]
    },
    {
     "name": "stderr",
     "output_type": "stream",
     "text": [
      "530it [01:17,  7.03it/s]"
     ]
    },
    {
     "name": "stdout",
     "output_type": "stream",
     "text": [
      "[[19.561289]]\n",
      "[[19.833918]]\n"
     ]
    },
    {
     "name": "stderr",
     "output_type": "stream",
     "text": [
      "532it [01:18,  7.09it/s]"
     ]
    },
    {
     "name": "stdout",
     "output_type": "stream",
     "text": [
      "[[20.410694]]\n",
      "[[24.037178]]\n"
     ]
    },
    {
     "name": "stderr",
     "output_type": "stream",
     "text": [
      "534it [01:18,  6.99it/s]"
     ]
    },
    {
     "name": "stdout",
     "output_type": "stream",
     "text": [
      "[[22.63514]]\n",
      "[[12.216828]]\n"
     ]
    },
    {
     "name": "stderr",
     "output_type": "stream",
     "text": [
      "536it [01:18,  7.23it/s]"
     ]
    },
    {
     "name": "stdout",
     "output_type": "stream",
     "text": [
      "[[13.647025]]\n",
      "[[62.35308]]\n"
     ]
    },
    {
     "name": "stderr",
     "output_type": "stream",
     "text": [
      "538it [01:18,  7.50it/s]"
     ]
    },
    {
     "name": "stdout",
     "output_type": "stream",
     "text": [
      "[[22.560568]]\n",
      "[[21.046144]]\n"
     ]
    },
    {
     "name": "stderr",
     "output_type": "stream",
     "text": [
      "540it [01:19,  7.14it/s]"
     ]
    },
    {
     "name": "stdout",
     "output_type": "stream",
     "text": [
      "[[20.901918]]\n",
      "[[15.787208]]\n"
     ]
    },
    {
     "name": "stderr",
     "output_type": "stream",
     "text": [
      "542it [01:19,  7.27it/s]"
     ]
    },
    {
     "name": "stdout",
     "output_type": "stream",
     "text": [
      "[[32.097946]]\n",
      "[[17.596138]]\n"
     ]
    },
    {
     "name": "stderr",
     "output_type": "stream",
     "text": [
      "544it [01:19,  7.22it/s]"
     ]
    },
    {
     "name": "stdout",
     "output_type": "stream",
     "text": [
      "[[9.822198]]\n",
      "[[18.164484]]\n"
     ]
    },
    {
     "name": "stderr",
     "output_type": "stream",
     "text": [
      "546it [01:20,  6.95it/s]"
     ]
    },
    {
     "name": "stdout",
     "output_type": "stream",
     "text": [
      "[[12.940985]]\n",
      "[[45.415985]]\n"
     ]
    },
    {
     "name": "stderr",
     "output_type": "stream",
     "text": [
      "548it [01:20,  6.80it/s]"
     ]
    },
    {
     "name": "stdout",
     "output_type": "stream",
     "text": [
      "[[35.209217]]\n",
      "[[48.26812]]\n"
     ]
    },
    {
     "name": "stderr",
     "output_type": "stream",
     "text": [
      "550it [01:20,  7.05it/s]"
     ]
    },
    {
     "name": "stdout",
     "output_type": "stream",
     "text": [
      "[[21.260834]]\n",
      "[[22.879642]]\n"
     ]
    },
    {
     "name": "stderr",
     "output_type": "stream",
     "text": [
      "552it [01:20,  7.11it/s]"
     ]
    },
    {
     "name": "stdout",
     "output_type": "stream",
     "text": [
      "[[25.15282]]\n",
      "[[20.029114]]\n"
     ]
    },
    {
     "name": "stderr",
     "output_type": "stream",
     "text": [
      "554it [01:21,  7.02it/s]"
     ]
    },
    {
     "name": "stdout",
     "output_type": "stream",
     "text": [
      "[[21.145983]]\n",
      "[[12.181992]]\n"
     ]
    },
    {
     "name": "stderr",
     "output_type": "stream",
     "text": [
      "556it [01:21,  6.97it/s]"
     ]
    },
    {
     "name": "stdout",
     "output_type": "stream",
     "text": [
      "[[20.844847]]\n",
      "[[11.502984]]\n"
     ]
    },
    {
     "name": "stderr",
     "output_type": "stream",
     "text": [
      "558it [01:21,  6.68it/s]"
     ]
    },
    {
     "name": "stdout",
     "output_type": "stream",
     "text": [
      "[[25.967253]]\n",
      "[[12.224712]]\n"
     ]
    },
    {
     "name": "stderr",
     "output_type": "stream",
     "text": [
      "560it [01:22,  6.78it/s]"
     ]
    },
    {
     "name": "stdout",
     "output_type": "stream",
     "text": [
      "[[19.547102]]\n",
      "[[14.586108]]\n"
     ]
    },
    {
     "name": "stderr",
     "output_type": "stream",
     "text": [
      "562it [01:22,  6.56it/s]"
     ]
    },
    {
     "name": "stdout",
     "output_type": "stream",
     "text": [
      "[[22.392956]]\n",
      "[[13.831871]]\n"
     ]
    },
    {
     "name": "stderr",
     "output_type": "stream",
     "text": [
      "564it [01:22,  6.71it/s]"
     ]
    },
    {
     "name": "stdout",
     "output_type": "stream",
     "text": [
      "[[19.059273]]\n",
      "[[70.16315]]\n"
     ]
    },
    {
     "name": "stderr",
     "output_type": "stream",
     "text": [
      "566it [01:23,  6.97it/s]"
     ]
    },
    {
     "name": "stdout",
     "output_type": "stream",
     "text": [
      "[[25.528322]]\n",
      "[[21.278584]]\n"
     ]
    },
    {
     "name": "stderr",
     "output_type": "stream",
     "text": [
      "568it [01:23,  6.62it/s]"
     ]
    },
    {
     "name": "stdout",
     "output_type": "stream",
     "text": [
      "[[13.555596]]\n",
      "[[13.235065]]\n"
     ]
    },
    {
     "name": "stderr",
     "output_type": "stream",
     "text": [
      "569it [01:23,  6.77it/s]"
     ]
    },
    {
     "name": "stdout",
     "output_type": "stream",
     "text": [
      "[[10.131141]]\n"
     ]
    },
    {
     "name": "stderr",
     "output_type": "stream",
     "text": [
      "571it [01:23,  6.03it/s]"
     ]
    },
    {
     "name": "stdout",
     "output_type": "stream",
     "text": [
      "[[19.338394]]\n",
      "[[20.00549]]\n"
     ]
    },
    {
     "name": "stderr",
     "output_type": "stream",
     "text": [
      "573it [01:24,  6.53it/s]"
     ]
    },
    {
     "name": "stdout",
     "output_type": "stream",
     "text": [
      "[[20.059845]]\n",
      "[[27.858406]]\n"
     ]
    },
    {
     "name": "stderr",
     "output_type": "stream",
     "text": [
      "574it [01:24,  6.73it/s]"
     ]
    },
    {
     "name": "stdout",
     "output_type": "stream",
     "text": [
      "[[18.515862]]\n"
     ]
    },
    {
     "name": "stderr",
     "output_type": "stream",
     "text": [
      "576it [01:24,  6.34it/s]"
     ]
    },
    {
     "name": "stdout",
     "output_type": "stream",
     "text": [
      "[[19.844395]]\n",
      "[[25.81866]]\n"
     ]
    },
    {
     "name": "stderr",
     "output_type": "stream",
     "text": [
      "578it [01:25,  5.93it/s]"
     ]
    },
    {
     "name": "stdout",
     "output_type": "stream",
     "text": [
      "[[11.632626]]\n",
      "[[30.066082]]\n"
     ]
    },
    {
     "name": "stderr",
     "output_type": "stream",
     "text": [
      "580it [01:25,  6.08it/s]"
     ]
    },
    {
     "name": "stdout",
     "output_type": "stream",
     "text": [
      "[[21.399776]]\n",
      "[[13.187765]]\n"
     ]
    },
    {
     "name": "stderr",
     "output_type": "stream",
     "text": [
      "582it [01:25,  6.82it/s]"
     ]
    },
    {
     "name": "stdout",
     "output_type": "stream",
     "text": [
      "[[19.848026]]\n",
      "[[28.335934]]\n"
     ]
    },
    {
     "name": "stderr",
     "output_type": "stream",
     "text": [
      "584it [01:25,  6.05it/s]"
     ]
    },
    {
     "name": "stdout",
     "output_type": "stream",
     "text": [
      "[[37.94883]]\n",
      "[[22.65308]]\n"
     ]
    },
    {
     "name": "stderr",
     "output_type": "stream",
     "text": [
      "586it [01:26,  5.99it/s]"
     ]
    },
    {
     "name": "stdout",
     "output_type": "stream",
     "text": [
      "[[20.721462]]\n",
      "[[20.972778]]\n"
     ]
    },
    {
     "name": "stderr",
     "output_type": "stream",
     "text": [
      "588it [01:26,  6.73it/s]"
     ]
    },
    {
     "name": "stdout",
     "output_type": "stream",
     "text": [
      "[[11.260461]]\n",
      "[[20.016804]]\n"
     ]
    },
    {
     "name": "stderr",
     "output_type": "stream",
     "text": [
      "590it [01:26,  6.97it/s]"
     ]
    },
    {
     "name": "stdout",
     "output_type": "stream",
     "text": [
      "[[63.462505]]\n",
      "[[45.921047]]\n"
     ]
    },
    {
     "name": "stderr",
     "output_type": "stream",
     "text": [
      "592it [01:27,  7.17it/s]"
     ]
    },
    {
     "name": "stdout",
     "output_type": "stream",
     "text": [
      "[[22.238432]]\n",
      "[[31.36277]]\n"
     ]
    },
    {
     "name": "stderr",
     "output_type": "stream",
     "text": [
      "594it [01:27,  6.87it/s]"
     ]
    },
    {
     "name": "stdout",
     "output_type": "stream",
     "text": [
      "[[15.901311]]\n",
      "[[14.966886]]\n"
     ]
    },
    {
     "name": "stderr",
     "output_type": "stream",
     "text": [
      "596it [01:27,  7.02it/s]"
     ]
    },
    {
     "name": "stdout",
     "output_type": "stream",
     "text": [
      "[[16.677105]]\n",
      "[[25.669872]]\n"
     ]
    },
    {
     "name": "stderr",
     "output_type": "stream",
     "text": [
      "598it [01:28,  7.26it/s]"
     ]
    },
    {
     "name": "stdout",
     "output_type": "stream",
     "text": [
      "[[10.888952]]\n",
      "[[12.43987]]\n"
     ]
    },
    {
     "name": "stderr",
     "output_type": "stream",
     "text": [
      "600it [01:28,  7.19it/s]"
     ]
    },
    {
     "name": "stdout",
     "output_type": "stream",
     "text": [
      "[[37.608604]]\n",
      "[[17.971375]]\n"
     ]
    },
    {
     "name": "stderr",
     "output_type": "stream",
     "text": [
      "602it [01:28,  7.18it/s]"
     ]
    },
    {
     "name": "stdout",
     "output_type": "stream",
     "text": [
      "[[19.791973]]\n",
      "[[64.75412]]\n"
     ]
    },
    {
     "name": "stderr",
     "output_type": "stream",
     "text": [
      "604it [01:28,  7.20it/s]"
     ]
    },
    {
     "name": "stdout",
     "output_type": "stream",
     "text": [
      "[[19.87249]]\n",
      "[[23.655037]]\n"
     ]
    },
    {
     "name": "stderr",
     "output_type": "stream",
     "text": [
      "606it [01:29,  7.21it/s]"
     ]
    },
    {
     "name": "stdout",
     "output_type": "stream",
     "text": [
      "[[19.288815]]\n",
      "[[11.517716]]\n"
     ]
    },
    {
     "name": "stderr",
     "output_type": "stream",
     "text": [
      "608it [01:29,  7.13it/s]"
     ]
    },
    {
     "name": "stdout",
     "output_type": "stream",
     "text": [
      "[[30.859512]]\n",
      "[[21.634274]]\n"
     ]
    },
    {
     "name": "stderr",
     "output_type": "stream",
     "text": [
      "610it [01:29,  7.08it/s]"
     ]
    },
    {
     "name": "stdout",
     "output_type": "stream",
     "text": [
      "[[20.380613]]\n",
      "[[17.690498]]\n"
     ]
    },
    {
     "name": "stderr",
     "output_type": "stream",
     "text": [
      "611it [01:29,  7.18it/s]"
     ]
    },
    {
     "name": "stdout",
     "output_type": "stream",
     "text": [
      "[[22.86794]]\n"
     ]
    },
    {
     "name": "stderr",
     "output_type": "stream",
     "text": [
      "612it [01:30,  5.70it/s]"
     ]
    },
    {
     "name": "stdout",
     "output_type": "stream",
     "text": [
      "[[14.926512]]\n"
     ]
    },
    {
     "name": "stderr",
     "output_type": "stream",
     "text": [
      "614it [01:30,  5.34it/s]"
     ]
    },
    {
     "name": "stdout",
     "output_type": "stream",
     "text": [
      "[[28.979153]]\n",
      "[[18.994698]]\n"
     ]
    },
    {
     "name": "stderr",
     "output_type": "stream",
     "text": [
      "616it [01:30,  6.14it/s]"
     ]
    },
    {
     "name": "stdout",
     "output_type": "stream",
     "text": [
      "[[20.596426]]\n",
      "[[20.267708]]\n"
     ]
    },
    {
     "name": "stderr",
     "output_type": "stream",
     "text": [
      "618it [01:31,  6.67it/s]"
     ]
    },
    {
     "name": "stdout",
     "output_type": "stream",
     "text": [
      "[[20.2342]]\n",
      "[[19.009163]]\n"
     ]
    },
    {
     "name": "stderr",
     "output_type": "stream",
     "text": [
      "620it [01:31,  6.93it/s]"
     ]
    },
    {
     "name": "stdout",
     "output_type": "stream",
     "text": [
      "[[12.152532]]\n",
      "[[20.689487]]\n"
     ]
    },
    {
     "name": "stderr",
     "output_type": "stream",
     "text": [
      "622it [01:31,  6.57it/s]"
     ]
    },
    {
     "name": "stdout",
     "output_type": "stream",
     "text": [
      "[[28.295269]]\n",
      "[[23.348406]]\n"
     ]
    },
    {
     "name": "stderr",
     "output_type": "stream",
     "text": [
      "623it [01:31,  6.23it/s]"
     ]
    },
    {
     "name": "stdout",
     "output_type": "stream",
     "text": [
      "[[20.235909]]\n"
     ]
    },
    {
     "name": "stderr",
     "output_type": "stream",
     "text": [
      "625it [01:32,  5.86it/s]"
     ]
    },
    {
     "name": "stdout",
     "output_type": "stream",
     "text": [
      "[[23.874853]]\n",
      "[[27.670502]]\n"
     ]
    },
    {
     "name": "stderr",
     "output_type": "stream",
     "text": [
      "627it [01:32,  5.85it/s]"
     ]
    },
    {
     "name": "stdout",
     "output_type": "stream",
     "text": [
      "[[11.761043]]\n",
      "[[15.086903]]\n"
     ]
    },
    {
     "name": "stderr",
     "output_type": "stream",
     "text": [
      "629it [01:32,  6.10it/s]"
     ]
    },
    {
     "name": "stdout",
     "output_type": "stream",
     "text": [
      "[[9.877212]]\n",
      "[[21.05419]]\n"
     ]
    },
    {
     "name": "stderr",
     "output_type": "stream",
     "text": [
      "631it [01:33,  6.63it/s]"
     ]
    },
    {
     "name": "stdout",
     "output_type": "stream",
     "text": [
      "[[32.773533]]\n",
      "[[10.475682]]\n"
     ]
    },
    {
     "name": "stderr",
     "output_type": "stream",
     "text": [
      "633it [01:33,  6.81it/s]"
     ]
    },
    {
     "name": "stdout",
     "output_type": "stream",
     "text": [
      "[[21.768686]]\n",
      "[[19.277895]]\n"
     ]
    },
    {
     "name": "stderr",
     "output_type": "stream",
     "text": [
      "635it [01:33,  6.78it/s]"
     ]
    },
    {
     "name": "stdout",
     "output_type": "stream",
     "text": [
      "[[23.69188]]\n",
      "[[30.57547]]\n"
     ]
    },
    {
     "name": "stderr",
     "output_type": "stream",
     "text": [
      "637it [01:34,  6.92it/s]"
     ]
    },
    {
     "name": "stdout",
     "output_type": "stream",
     "text": [
      "[[25.319921]]\n",
      "[[29.433723]]\n"
     ]
    },
    {
     "name": "stderr",
     "output_type": "stream",
     "text": [
      "639it [01:34,  6.88it/s]"
     ]
    },
    {
     "name": "stdout",
     "output_type": "stream",
     "text": [
      "[[23.035192]]\n",
      "[[11.009328]]\n"
     ]
    },
    {
     "name": "stderr",
     "output_type": "stream",
     "text": [
      "641it [01:34,  7.01it/s]"
     ]
    },
    {
     "name": "stdout",
     "output_type": "stream",
     "text": [
      "[[10.48812]]\n",
      "[[19.519487]]\n"
     ]
    },
    {
     "name": "stderr",
     "output_type": "stream",
     "text": [
      "643it [01:34,  7.26it/s]"
     ]
    },
    {
     "name": "stdout",
     "output_type": "stream",
     "text": [
      "[[26.736921]]\n",
      "[[19.303791]]\n"
     ]
    },
    {
     "name": "stderr",
     "output_type": "stream",
     "text": [
      "645it [01:35,  6.76it/s]"
     ]
    },
    {
     "name": "stdout",
     "output_type": "stream",
     "text": [
      "[[19.20425]]\n",
      "[[28.853943]]\n"
     ]
    },
    {
     "name": "stderr",
     "output_type": "stream",
     "text": [
      "647it [01:35,  6.99it/s]"
     ]
    },
    {
     "name": "stdout",
     "output_type": "stream",
     "text": [
      "[[28.446472]]\n",
      "[[59.114346]]\n"
     ]
    },
    {
     "name": "stderr",
     "output_type": "stream",
     "text": [
      "649it [01:35,  7.09it/s]"
     ]
    },
    {
     "name": "stdout",
     "output_type": "stream",
     "text": [
      "[[25.547129]]\n",
      "[[20.541927]]\n"
     ]
    },
    {
     "name": "stderr",
     "output_type": "stream",
     "text": [
      "651it [01:36,  7.03it/s]"
     ]
    },
    {
     "name": "stdout",
     "output_type": "stream",
     "text": [
      "[[17.522106]]\n",
      "[[30.966051]]\n"
     ]
    },
    {
     "name": "stderr",
     "output_type": "stream",
     "text": [
      "653it [01:36,  7.17it/s]"
     ]
    },
    {
     "name": "stdout",
     "output_type": "stream",
     "text": [
      "[[19.5262]]\n",
      "[[23.338785]]\n"
     ]
    },
    {
     "name": "stderr",
     "output_type": "stream",
     "text": [
      "655it [01:36,  7.36it/s]"
     ]
    },
    {
     "name": "stdout",
     "output_type": "stream",
     "text": [
      "[[18.934444]]\n",
      "[[22.142208]]\n"
     ]
    },
    {
     "name": "stderr",
     "output_type": "stream",
     "text": [
      "657it [01:36,  7.48it/s]"
     ]
    },
    {
     "name": "stdout",
     "output_type": "stream",
     "text": [
      "[[21.752943]]\n",
      "[[32.08145]]\n"
     ]
    },
    {
     "name": "stderr",
     "output_type": "stream",
     "text": [
      "659it [01:37,  7.30it/s]"
     ]
    },
    {
     "name": "stdout",
     "output_type": "stream",
     "text": [
      "[[38.162075]]\n",
      "[[19.993494]]\n"
     ]
    },
    {
     "name": "stderr",
     "output_type": "stream",
     "text": [
      "661it [01:37,  7.07it/s]"
     ]
    },
    {
     "name": "stdout",
     "output_type": "stream",
     "text": [
      "[[25.660183]]\n",
      "[[18.005909]]\n"
     ]
    },
    {
     "name": "stderr",
     "output_type": "stream",
     "text": [
      "663it [01:37,  7.22it/s]"
     ]
    },
    {
     "name": "stdout",
     "output_type": "stream",
     "text": [
      "[[42.829235]]\n",
      "[[20.131184]]\n"
     ]
    },
    {
     "name": "stderr",
     "output_type": "stream",
     "text": [
      "665it [01:37,  7.34it/s]"
     ]
    },
    {
     "name": "stdout",
     "output_type": "stream",
     "text": [
      "[[29.91787]]\n",
      "[[18.808487]]\n"
     ]
    },
    {
     "name": "stderr",
     "output_type": "stream",
     "text": [
      "667it [01:38,  7.43it/s]"
     ]
    },
    {
     "name": "stdout",
     "output_type": "stream",
     "text": [
      "[[27.568478]]\n",
      "[[22.68337]]\n"
     ]
    },
    {
     "name": "stderr",
     "output_type": "stream",
     "text": [
      "668it [01:38,  7.18it/s]"
     ]
    },
    {
     "name": "stdout",
     "output_type": "stream",
     "text": [
      "[[23.076805]]\n"
     ]
    },
    {
     "name": "stderr",
     "output_type": "stream",
     "text": [
      "670it [01:38,  5.15it/s]"
     ]
    },
    {
     "name": "stdout",
     "output_type": "stream",
     "text": [
      "[[20.45444]]\n",
      "[[25.53896]]\n"
     ]
    },
    {
     "name": "stderr",
     "output_type": "stream",
     "text": [
      "672it [01:39,  6.02it/s]"
     ]
    },
    {
     "name": "stdout",
     "output_type": "stream",
     "text": [
      "[[13.175199]]\n",
      "[[12.868659]]\n"
     ]
    },
    {
     "name": "stderr",
     "output_type": "stream",
     "text": [
      "674it [01:39,  6.67it/s]"
     ]
    },
    {
     "name": "stdout",
     "output_type": "stream",
     "text": [
      "[[17.938148]]\n",
      "[[23.049156]]\n"
     ]
    },
    {
     "name": "stderr",
     "output_type": "stream",
     "text": [
      "676it [01:39,  6.81it/s]"
     ]
    },
    {
     "name": "stdout",
     "output_type": "stream",
     "text": [
      "[[47.85295]]\n",
      "[[46.272762]]\n"
     ]
    },
    {
     "name": "stderr",
     "output_type": "stream",
     "text": [
      "678it [01:40,  6.74it/s]"
     ]
    },
    {
     "name": "stdout",
     "output_type": "stream",
     "text": [
      "[[19.665928]]\n",
      "[[18.839653]]\n"
     ]
    },
    {
     "name": "stderr",
     "output_type": "stream",
     "text": [
      "679it [01:40,  7.00it/s]"
     ]
    },
    {
     "name": "stdout",
     "output_type": "stream",
     "text": [
      "[[18.706158]]\n"
     ]
    },
    {
     "name": "stderr",
     "output_type": "stream",
     "text": [
      "680it [01:40,  5.46it/s]"
     ]
    },
    {
     "name": "stdout",
     "output_type": "stream",
     "text": [
      "[[16.099434]]\n"
     ]
    },
    {
     "name": "stderr",
     "output_type": "stream",
     "text": [
      "681it [01:40,  4.35it/s]"
     ]
    },
    {
     "name": "stdout",
     "output_type": "stream",
     "text": [
      "[[24.234158]]\n"
     ]
    },
    {
     "name": "stderr",
     "output_type": "stream",
     "text": [
      "683it [01:41,  4.04it/s]"
     ]
    },
    {
     "name": "stdout",
     "output_type": "stream",
     "text": [
      "[[37.3866]]\n",
      "[[18.135502]]\n"
     ]
    },
    {
     "name": "stderr",
     "output_type": "stream",
     "text": [
      "684it [01:41,  3.36it/s]"
     ]
    },
    {
     "name": "stdout",
     "output_type": "stream",
     "text": [
      "[[26.494326]]\n"
     ]
    },
    {
     "name": "stderr",
     "output_type": "stream",
     "text": [
      "685it [01:42,  3.50it/s]"
     ]
    },
    {
     "name": "stdout",
     "output_type": "stream",
     "text": [
      "[[27.305553]]\n"
     ]
    },
    {
     "name": "stderr",
     "output_type": "stream",
     "text": [
      "686it [01:42,  3.36it/s]"
     ]
    },
    {
     "name": "stdout",
     "output_type": "stream",
     "text": [
      "[[22.026587]]\n"
     ]
    },
    {
     "name": "stderr",
     "output_type": "stream",
     "text": [
      "687it [01:43,  2.42it/s]"
     ]
    },
    {
     "name": "stdout",
     "output_type": "stream",
     "text": [
      "[[15.453437]]\n"
     ]
    },
    {
     "name": "stderr",
     "output_type": "stream",
     "text": [
      "689it [01:43,  3.23it/s]"
     ]
    },
    {
     "name": "stdout",
     "output_type": "stream",
     "text": [
      "[[22.583115]]\n",
      "[[12.431851]]\n"
     ]
    },
    {
     "name": "stderr",
     "output_type": "stream",
     "text": [
      "691it [01:43,  4.29it/s]"
     ]
    },
    {
     "name": "stdout",
     "output_type": "stream",
     "text": [
      "[[38.998787]]\n",
      "[[18.217823]]\n"
     ]
    },
    {
     "name": "stderr",
     "output_type": "stream",
     "text": [
      "692it [01:43,  4.97it/s]"
     ]
    },
    {
     "name": "stdout",
     "output_type": "stream",
     "text": [
      "[[44.282383]]\n"
     ]
    },
    {
     "name": "stderr",
     "output_type": "stream",
     "text": [
      "694it [01:44,  4.89it/s]"
     ]
    },
    {
     "name": "stdout",
     "output_type": "stream",
     "text": [
      "[[17.628952]]\n",
      "[[13.567548]]\n"
     ]
    },
    {
     "name": "stderr",
     "output_type": "stream",
     "text": [
      "695it [01:44,  4.71it/s]"
     ]
    },
    {
     "name": "stdout",
     "output_type": "stream",
     "text": [
      "[[57.700977]]\n"
     ]
    },
    {
     "name": "stderr",
     "output_type": "stream",
     "text": [
      "697it [01:44,  5.26it/s]"
     ]
    },
    {
     "name": "stdout",
     "output_type": "stream",
     "text": [
      "[[15.181308]]\n",
      "[[51.418964]]\n"
     ]
    },
    {
     "name": "stderr",
     "output_type": "stream",
     "text": [
      "698it [01:45,  4.58it/s]"
     ]
    },
    {
     "name": "stdout",
     "output_type": "stream",
     "text": [
      "[[20.19331]]\n"
     ]
    },
    {
     "name": "stderr",
     "output_type": "stream",
     "text": [
      "699it [01:45,  3.07it/s]"
     ]
    },
    {
     "name": "stdout",
     "output_type": "stream",
     "text": [
      "[[22.094566]]\n"
     ]
    },
    {
     "name": "stderr",
     "output_type": "stream",
     "text": [
      "701it [01:46,  3.37it/s]"
     ]
    },
    {
     "name": "stdout",
     "output_type": "stream",
     "text": [
      "[[21.291504]]\n",
      "[[18.689342]]\n"
     ]
    },
    {
     "name": "stderr",
     "output_type": "stream",
     "text": [
      "703it [01:46,  4.38it/s]"
     ]
    },
    {
     "name": "stdout",
     "output_type": "stream",
     "text": [
      "[[22.67439]]\n",
      "[[19.911541]]\n"
     ]
    },
    {
     "name": "stderr",
     "output_type": "stream",
     "text": [
      "705it [01:47,  4.37it/s]"
     ]
    },
    {
     "name": "stdout",
     "output_type": "stream",
     "text": [
      "[[27.401653]]\n",
      "[[18.629002]]\n"
     ]
    },
    {
     "name": "stderr",
     "output_type": "stream",
     "text": [
      "706it [01:47,  3.56it/s]"
     ]
    },
    {
     "name": "stdout",
     "output_type": "stream",
     "text": [
      "[[22.341934]]\n"
     ]
    },
    {
     "name": "stderr",
     "output_type": "stream",
     "text": [
      "707it [01:47,  3.42it/s]"
     ]
    },
    {
     "name": "stdout",
     "output_type": "stream",
     "text": [
      "[[38.408638]]\n"
     ]
    },
    {
     "name": "stderr",
     "output_type": "stream",
     "text": [
      "708it [01:48,  3.47it/s]"
     ]
    },
    {
     "name": "stdout",
     "output_type": "stream",
     "text": [
      "[[18.32091]]\n"
     ]
    },
    {
     "name": "stderr",
     "output_type": "stream",
     "text": [
      "709it [01:48,  3.52it/s]"
     ]
    },
    {
     "name": "stdout",
     "output_type": "stream",
     "text": [
      "[[11.983029]]\n",
      "[[20.159279]]\n"
     ]
    },
    {
     "name": "stderr",
     "output_type": "stream",
     "text": [
      "712it [01:49,  4.24it/s]"
     ]
    },
    {
     "name": "stdout",
     "output_type": "stream",
     "text": [
      "[[10.87802]]\n",
      "[[24.55505]]\n"
     ]
    },
    {
     "name": "stderr",
     "output_type": "stream",
     "text": [
      "713it [01:49,  4.54it/s]"
     ]
    },
    {
     "name": "stdout",
     "output_type": "stream",
     "text": [
      "[[10.214864]]\n"
     ]
    },
    {
     "name": "stderr",
     "output_type": "stream",
     "text": [
      "714it [01:49,  3.58it/s]"
     ]
    },
    {
     "name": "stdout",
     "output_type": "stream",
     "text": [
      "[[20.490017]]\n",
      "[[18.019194]]\n"
     ]
    },
    {
     "name": "stderr",
     "output_type": "stream",
     "text": [
      "717it [01:50,  3.94it/s]"
     ]
    },
    {
     "name": "stdout",
     "output_type": "stream",
     "text": [
      "[[21.280537]]\n",
      "[[19.3646]]\n"
     ]
    },
    {
     "name": "stderr",
     "output_type": "stream",
     "text": [
      "718it [01:50,  4.45it/s]"
     ]
    },
    {
     "name": "stdout",
     "output_type": "stream",
     "text": [
      "[[40.5639]]\n"
     ]
    },
    {
     "name": "stderr",
     "output_type": "stream",
     "text": [
      "720it [01:51,  5.00it/s]"
     ]
    },
    {
     "name": "stdout",
     "output_type": "stream",
     "text": [
      "[[24.592289]]\n",
      "[[20.71438]]\n"
     ]
    },
    {
     "name": "stderr",
     "output_type": "stream",
     "text": [
      "721it [01:51,  3.98it/s]"
     ]
    },
    {
     "name": "stdout",
     "output_type": "stream",
     "text": [
      "[[12.472173]]\n"
     ]
    },
    {
     "name": "stderr",
     "output_type": "stream",
     "text": [
      "723it [01:51,  4.75it/s]"
     ]
    },
    {
     "name": "stdout",
     "output_type": "stream",
     "text": [
      "[[23.703995]]\n",
      "[[20.01756]]\n"
     ]
    },
    {
     "name": "stderr",
     "output_type": "stream",
     "text": [
      "725it [01:52,  5.89it/s]"
     ]
    },
    {
     "name": "stdout",
     "output_type": "stream",
     "text": [
      "[[16.49154]]\n",
      "[[18.903639]]\n"
     ]
    },
    {
     "name": "stderr",
     "output_type": "stream",
     "text": [
      "727it [01:52,  6.58it/s]"
     ]
    },
    {
     "name": "stdout",
     "output_type": "stream",
     "text": [
      "[[23.091421]]\n",
      "[[12.803385]]\n"
     ]
    },
    {
     "name": "stderr",
     "output_type": "stream",
     "text": [
      "729it [01:52,  7.10it/s]"
     ]
    },
    {
     "name": "stdout",
     "output_type": "stream",
     "text": [
      "[[20.797802]]\n",
      "[[12.332477]]\n"
     ]
    },
    {
     "name": "stderr",
     "output_type": "stream",
     "text": [
      "731it [01:52,  6.80it/s]"
     ]
    },
    {
     "name": "stdout",
     "output_type": "stream",
     "text": [
      "[[20.573605]]\n",
      "[[18.851868]]\n"
     ]
    },
    {
     "name": "stderr",
     "output_type": "stream",
     "text": [
      "732it [01:53,  6.80it/s]"
     ]
    },
    {
     "name": "stdout",
     "output_type": "stream",
     "text": [
      "[[18.925814]]\n"
     ]
    },
    {
     "name": "stderr",
     "output_type": "stream",
     "text": [
      "733it [01:53,  5.22it/s]"
     ]
    },
    {
     "name": "stdout",
     "output_type": "stream",
     "text": [
      "[[13.912339]]\n",
      "[[13.538354]]\n"
     ]
    },
    {
     "name": "stderr",
     "output_type": "stream",
     "text": [
      "736it [01:53,  5.16it/s]"
     ]
    },
    {
     "name": "stdout",
     "output_type": "stream",
     "text": [
      "[[19.637205]]\n",
      "[[30.648048]]\n"
     ]
    },
    {
     "name": "stderr",
     "output_type": "stream",
     "text": [
      "738it [01:54,  5.42it/s]"
     ]
    },
    {
     "name": "stdout",
     "output_type": "stream",
     "text": [
      "[[19.854467]]\n",
      "[[23.374065]]\n"
     ]
    },
    {
     "name": "stderr",
     "output_type": "stream",
     "text": [
      "740it [01:54,  6.14it/s]"
     ]
    },
    {
     "name": "stdout",
     "output_type": "stream",
     "text": [
      "[[18.72166]]\n",
      "[[40.1089]]\n"
     ]
    },
    {
     "name": "stderr",
     "output_type": "stream",
     "text": [
      "742it [01:54,  6.45it/s]"
     ]
    },
    {
     "name": "stdout",
     "output_type": "stream",
     "text": [
      "[[18.287907]]\n",
      "[[29.47962]]\n"
     ]
    },
    {
     "name": "stderr",
     "output_type": "stream",
     "text": [
      "744it [01:55,  6.99it/s]"
     ]
    },
    {
     "name": "stdout",
     "output_type": "stream",
     "text": [
      "[[24.09474]]\n",
      "[[52.34831]]\n"
     ]
    },
    {
     "name": "stderr",
     "output_type": "stream",
     "text": [
      "746it [01:55,  7.03it/s]"
     ]
    },
    {
     "name": "stdout",
     "output_type": "stream",
     "text": [
      "[[19.324461]]\n",
      "[[28.203047]]\n"
     ]
    },
    {
     "name": "stderr",
     "output_type": "stream",
     "text": [
      "748it [01:55,  7.43it/s]"
     ]
    },
    {
     "name": "stdout",
     "output_type": "stream",
     "text": [
      "[[23.789673]]\n",
      "[[10.488498]]\n"
     ]
    },
    {
     "name": "stderr",
     "output_type": "stream",
     "text": [
      "750it [01:55,  7.15it/s]"
     ]
    },
    {
     "name": "stdout",
     "output_type": "stream",
     "text": [
      "[[20.138538]]\n",
      "[[12.880909]]\n"
     ]
    },
    {
     "name": "stderr",
     "output_type": "stream",
     "text": [
      "752it [01:56,  7.25it/s]"
     ]
    },
    {
     "name": "stdout",
     "output_type": "stream",
     "text": [
      "[[14.500089]]\n",
      "[[21.57483]]\n"
     ]
    },
    {
     "name": "stderr",
     "output_type": "stream",
     "text": [
      "754it [01:56,  7.19it/s]"
     ]
    },
    {
     "name": "stdout",
     "output_type": "stream",
     "text": [
      "[[36.760086]]\n",
      "[[20.825985]]\n"
     ]
    },
    {
     "name": "stderr",
     "output_type": "stream",
     "text": [
      "756it [01:56,  7.45it/s]"
     ]
    },
    {
     "name": "stdout",
     "output_type": "stream",
     "text": [
      "[[19.839163]]\n",
      "[[39.02193]]\n"
     ]
    },
    {
     "name": "stderr",
     "output_type": "stream",
     "text": [
      "757it [01:56,  6.48it/s]"
     ]
    },
    {
     "name": "stdout",
     "output_type": "stream",
     "text": [
      "[[13.897021]]\n"
     ]
    },
    {
     "name": "stderr",
     "output_type": "stream",
     "text": [
      "\n"
     ]
    }
   ],
   "source": [
    "import os\n",
    "import numpy as np\n",
    "import pandas as pd\n",
    "from tqdm import tqdm\n",
    "from sklearn.metrics import mean_absolute_error, mean_squared_error\n",
    "from scipy.stats import pearsonr\n",
    "\n",
    "# model_path = 'normalized_age_prediction_model.h5'\n",
    "# model = load_model(model_path)\n",
    "# model_path = 'multiTask_final_model.h5'\n",
    "model_path = 'multiTask_best_weights.h5'\n",
    "model = load_model(model_path)\n",
    "\n",
    "tsv_path = r'C:\\Users\\User\\Documents\\Dataset\\Brain Age\\val\\val_labels\\participants.tsv'\n",
    "participants = pd.read_csv(tsv_path, sep='\\t')\n",
    "\n",
    "# Load the numpy arrays and their corresponding ages\n",
    "data_dir = r'C:\\Users\\User\\Documents\\Dataset\\Brain Age\\val\\val_quasiraw'\n",
    "data = []\n",
    "ages = []\n",
    "pred_ages = []\n",
    "i = 0\n",
    "for participant_id, age in tqdm(zip(participants['participant_id'], participants['age'])):\n",
    "    file_path = os.path.join(data_dir, f'sub-{participant_id}_preproc-quasiraw_T1w.npy')\n",
    "    if os.path.exists(file_path):\n",
    "        volume = np.squeeze(np.load(file_path))\n",
    "        x = get_cropped_volume(volume)\n",
    "        data = x[np.newaxis, ..., np.newaxis]\n",
    "        pred_age = model.predict(data)\n",
    "        print(pred_age[0])\n",
    "        pred_ages.append(pred_age[0])\n",
    "        ages.append(age)\n",
    "        # i=i+1\n",
    "        # if i==10:\n",
    "        #     break\n"
   ]
  },
  {
   "cell_type": "code",
   "execution_count": 11,
   "id": "a5a5633e-d1b3-4dd0-b30f-eb395cdbb44a",
   "metadata": {},
   "outputs": [
    {
     "name": "stdout",
     "output_type": "stream",
     "text": [
      "Age MAE: 3.4927321774294326\n",
      "Age MSE: 29.15878715377121\n",
      "Gender Accuracy: 0.5080647553699597\n"
     ]
    }
   ],
   "source": [
    "import os\n",
    "import numpy as np\n",
    "import pandas as pd\n",
    "from tqdm import tqdm\n",
    "from sklearn.metrics import mean_absolute_error, mean_squared_error\n",
    "from scipy.stats import pearsonr\n",
    "from tensorflow.keras.models import load_model\n",
    "\n",
    "\n",
    "model_path = 'multiTask_best_weights.h5'\n",
    "model = load_model(model_path)\n",
    "\n",
    "tsv_path = r'C:\\Users\\User\\Documents\\Dataset\\Brain Age\\val\\val_labels\\participants.tsv'\n",
    "participants = pd.read_csv(tsv_path, sep='\\t')\n",
    "\n",
    "# Load the numpy arrays and their corresponding ages and genders\n",
    "data_dir = r'C:\\Users\\User\\Documents\\Dataset\\Brain Age\\val\\val_quasiraw'\n",
    "ages = []\n",
    "genders = []\n",
    "pred_ages = []\n",
    "pred_genders = []\n",
    "\n",
    "for participant_id, age, sex in tqdm(zip(participants['participant_id'], participants['age'], participants['sex'])):\n",
    "    file_path = os.path.join(data_dir, f'sub-{participant_id}_preproc-quasiraw_T1w.npy')\n",
    "    if os.path.exists(file_path):\n",
    "        volume = np.squeeze(np.load(file_path))\n",
    "        x = get_cropped_volume(volume)\n",
    "        data = x[np.newaxis, ..., np.newaxis]\n",
    "        pred_age, pred_gender = model.predict(data)\n",
    "        pred_ages.append(pred_age[0])\n",
    "        pred_genders.append(pred_gender[0])\n",
    "        ages.append(age)\n",
    "        genders.append(1 if sex == 'male' else 0)\n",
    "\n",
    "ages = np.array(ages)\n",
    "pred_ages = np.array(pred_ages)\n",
    "genders = np.array(genders)\n",
    "pred_genders = np.array(pred_genders)\n",
    "\n",
    "# Evaluate the model's performance\n",
    "mae_age = mean_absolute_error(ages, pred_ages)\n",
    "mse_age = mean_squared_error(ages, pred_ages)\n",
    "corr_age, _ = pearsonr(ages, pred_ages)\n",
    "\n",
    "accuracy_gender = np.mean((pred_genders > 0.5) == genders)\n",
    "\n",
    "print(f'Age MAE: {mae_age}')\n",
    "print(f'Age MSE: {mse_age}')\n",
    "# print(f'Age Correlation: {corr_age}')\n",
    "print(f'Gender Accuracy: {accuracy_gender}')"
   ]
  },
  {
   "cell_type": "code",
   "execution_count": 15,
   "id": "a59268b5-789f-401f-a4d4-3530d2edef75",
   "metadata": {},
   "outputs": [
    {
     "name": "stdout",
     "output_type": "stream",
     "text": [
      "Overall Age MAE: 3.4927321774294326\n",
      "Overall Age MSE: 29.15878715377121\n",
      "Overall Gender Accuracy: 0.5080647553699597\n",
      "Male Age MAE: 3.203827810048379\n",
      "Male Age MSE: 21.90623073892201\n",
      "Female Age MAE: 3.8489623413388143\n",
      "Female Age MSE: 38.101467334912705\n"
     ]
    }
   ],
   "source": [
    "# Evaluate the model's performance\n",
    "def evaluate_age_performance(true_ages, predicted_ages):\n",
    "    mae = mean_absolute_error(true_ages, predicted_ages)\n",
    "    mse = mean_squared_error(true_ages, predicted_ages)\n",
    "    # corr, _ = pearsonr(true_ages, predicted_ages)\n",
    "    return mae, mse\n",
    "\n",
    "# Overall performance\n",
    "mae_age, mse_age = evaluate_age_performance(ages, pred_ages)\n",
    "accuracy_gender = np.mean((pred_genders > 0.5) == genders)\n",
    "\n",
    "# Performance for males\n",
    "male_mask = genders == 1\n",
    "mae_age_male, mse_age_male = evaluate_age_performance(ages[male_mask], pred_ages[male_mask])\n",
    "\n",
    "# Performance for females\n",
    "female_mask = genders == 0\n",
    "mae_age_female, mse_age_female = evaluate_age_performance(ages[female_mask], pred_ages[female_mask])\n",
    "\n",
    "print(f'Overall Age MAE: {mae_age}')\n",
    "print(f'Overall Age MSE: {mse_age}')\n",
    "# print(f'Overall Age Correlation: {corr_age}')\n",
    "print(f'Overall Gender Accuracy: {accuracy_gender}')\n",
    "\n",
    "print(f'Male Age MAE: {mae_age_male}')\n",
    "print(f'Male Age MSE: {mse_age_male}')\n",
    "# print(f'Male Age Correlation: {corr_age_male}')\n",
    "\n",
    "print(f'Female Age MAE: {mae_age_female}')\n",
    "print(f'Female Age MSE: {mse_age_female}')\n",
    "# print(f'Female Age Correlation: {corr_age_female}')"
   ]
  },
  {
   "cell_type": "code",
   "execution_count": 20,
   "id": "4acff863-61dd-441b-8ff1-b32f2560390e",
   "metadata": {},
   "outputs": [
    {
     "data": {
      "text/plain": [
       "((757,), (757,), (757,))"
      ]
     },
     "execution_count": 20,
     "metadata": {},
     "output_type": "execute_result"
    }
   ],
   "source": [
    "pred_ages = np.squeeze(pred_ages)\n",
    "male_mask.shape, ages.shape, pred_ages.shape"
   ]
  },
  {
   "cell_type": "code",
   "execution_count": 21,
   "id": "d97a471e-41a0-4078-a60c-65464cfffdfb",
   "metadata": {},
   "outputs": [
    {
     "data": {
      "image/png": "[encoded data removed]",
      "text/plain": [
       "<Figure size 1000x1000 with 1 Axes>"
      ]
     },
     "metadata": {},
     "output_type": "display_data"
    },
    {
     "data": {
      "image/png": "[encoded data removed]",
      "text/plain": [
       "<Figure size 1000x1000 with 1 Axes>"
      ]
     },
     "metadata": {},
     "output_type": "display_data"
    }
   ],
   "source": [
    "import matplotlib.pyplot as plt\n",
    "import seaborn as sns\n",
    "from scipy.stats import linregress\n",
    "\n",
    "def plot_results(ages, pred_ages, mae, sd, bias, rmse, title):\n",
    "    # Plotting\n",
    "    plt.figure(figsize=(10, 10))\n",
    "    sns.set(style=\"whitegrid\")\n",
    "    \n",
    "    # Scatter plot of actual vs predicted ages\n",
    "    plt.scatter(ages, pred_ages, color='purple', alpha=0.6, edgecolor='w', s=80, label='Data points')\n",
    "    \n",
    "    # Regression line\n",
    "    slope, intercept, r_value, p_value, std_err = linregress(ages, pred_ages)\n",
    "    plt.plot(ages, intercept + slope * ages, 'r', label=f'Fit: $\\\\hat{{CA}} = {slope:.2f} \\cdot CA + {intercept:.2f}$')\n",
    "\n",
    "    # Identity line (y = x)\n",
    "    plt.plot([ages.min(), ages.max()], [ages.min(), ages.max()], 'k--', lw=2, label='Identity line')\n",
    "\n",
    "    # Confidence intervals\n",
    "    plt.plot([ages.min(), ages.max()], [ages.min() + 1.96 * sd, ages.max() + 1.96 * sd], 'k--')\n",
    "    plt.plot([ages.min(), ages.max()], [ages.min() - 1.96 * sd, ages.max() - 1.96 * sd], 'k--', label='95% Confidence interval')\n",
    "    \n",
    "    # Annotations\n",
    "    plt.xlabel('Chronological age (CA) [yrs]')\n",
    "    plt.ylabel('Estimated chronological age ($\\\\hat{CA}$) [yrs]')\n",
    "    plt.title(title)\n",
    "    plt.legend()\n",
    "    \n",
    "    # Annotation with metrics\n",
    "    metrics_text = (f'$\\\\hat{{CA}} = {slope:.2f} \\cdot CA + {intercept:.2f}$\\n'\n",
    "                    f'MAE $\\\\rightarrow$ {mae:.2f} $\\\\pm$ {sd:.2f} yrs\\n'\n",
    "                    f'RMSE $\\\\rightarrow$ {rmse:.2f} yrs')\n",
    "    plt.annotate(metrics_text, xy=(0.05, 0.95), xycoords='axes fraction',\n",
    "                 fontsize=12, bbox=dict(boxstyle=\"round,pad=0.3\", edgecolor=\"black\", facecolor=\"white\"),\n",
    "                 horizontalalignment='left', verticalalignment='top')\n",
    "\n",
    "    plt.show()\n",
    "\n",
    "# Calculate additional metrics\n",
    "def calculate_metrics(true_ages, predicted_ages):\n",
    "    mae = mean_absolute_error(true_ages, predicted_ages)\n",
    "    rmse = np.sqrt(mean_squared_error(true_ages, predicted_ages))\n",
    "    sd = np.std(np.abs(true_ages - predicted_ages))\n",
    "    bias = np.mean(true_ages - predicted_ages)\n",
    "    return mae, sd, bias, rmse\n",
    "\n",
    "# Metrics for males\n",
    "mae_age_male, sd_age_male, bias_age_male, rmse_age_male = calculate_metrics(ages[male_mask], pred_ages[male_mask])\n",
    "plot_results(ages[male_mask], pred_ages[male_mask], mae_age_male, sd_age_male, bias_age_male, rmse_age_male, title='Age Estimation for Males')\n",
    "\n",
    "# Metrics for females\n",
    "mae_age_female, sd_age_female, bias_age_female, rmse_age_female = calculate_metrics(ages[female_mask], pred_ages[female_mask])\n",
    "plot_results(ages[female_mask], pred_ages[female_mask], mae_age_female, sd_age_female, bias_age_female, rmse_age_female, title='Age Estimation for Females')\n"
   ]
  }
 ],
 "metadata": {
  "kernelspec": {
   "display_name": "Python 3 (ipykernel)",
   "language": "python",
   "name": "python3"
  },
  "language_info": {
   "codemirror_mode": {
    "name": "ipython",
    "version": 3
   },
   "file_extension": ".py",
   "mimetype": "text/x-python",
   "name": "python",
   "nbconvert_exporter": "python",
   "pygments_lexer": "ipython3",
   "version": "3.9.19"
  }
 },
 "nbformat": 4,
 "nbformat_minor": 5
}
